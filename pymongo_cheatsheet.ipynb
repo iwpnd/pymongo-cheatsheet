{
 "cells": [
  {
   "cell_type": "code",
   "execution_count": 22,
   "metadata": {},
   "outputs": [],
   "source": [
    "from pymongo import MongoClient\n",
    "from bson.objectid import ObjectId\n",
    "from bson.son import SON\n",
    "from collections import OrderedDict\n",
    "from pprint import pprint\n",
    "import requests\n",
    "import bs4\n",
    "import pandas as pd"
   ]
  },
  {
   "cell_type": "markdown",
   "metadata": {},
   "source": [
    "## setup mongo connection"
   ]
  },
  {
   "cell_type": "code",
   "execution_count": 6,
   "metadata": {},
   "outputs": [],
   "source": [
    "client = MongoClient(\"mongodb://127.0.0.1:27017/\")\n",
    "db = client.shops"
   ]
  },
  {
   "cell_type": "code",
   "execution_count": 7,
   "metadata": {
    "collapsed": true,
    "jupyter": {
     "outputs_hidden": true
    }
   },
   "outputs": [
    {
     "name": "stdout",
     "output_type": "stream",
     "text": [
      "{'asserts': {'msg': 0, 'regular': 0, 'rollovers': 0, 'user': 22, 'warning': 0},\n",
      " 'connections': {'active': 1,\n",
      "                 'available': 3272,\n",
      "                 'current': 4,\n",
      "                 'totalCreated': 16},\n",
      " 'electionMetrics': {'averageCatchUpOps': 0.0,\n",
      "                     'catchUpTakeover': {'called': 0, 'successful': 0},\n",
      "                     'electionTimeout': {'called': 0, 'successful': 0},\n",
      "                     'freezeTimeout': {'called': 0, 'successful': 0},\n",
      "                     'numCatchUps': 0,\n",
      "                     'numCatchUpsAlreadyCaughtUp': 0,\n",
      "                     'numCatchUpsFailedWithError': 0,\n",
      "                     'numCatchUpsFailedWithNewTerm': 0,\n",
      "                     'numCatchUpsFailedWithReplSetAbortPrimaryCatchUpCmd': 0,\n",
      "                     'numCatchUpsSkipped': 0,\n",
      "                     'numCatchUpsSucceeded': 0,\n",
      "                     'numCatchUpsTimedOut': 0,\n",
      "                     'numStepDownsCausedByHigherTerm': 0,\n",
      "                     'priorityTakeover': {'called': 0, 'successful': 0},\n",
      "                     'stepUpCmd': {'called': 0, 'successful': 0}},\n",
      " 'extra_info': {'note': 'fields vary by platform', 'page_faults': 3},\n",
      " 'flowControl': {'enabled': True,\n",
      "                 'isLagged': False,\n",
      "                 'isLaggedCount': 0,\n",
      "                 'isLaggedTimeMicros': 0,\n",
      "                 'locksPerOp': 0.0,\n",
      "                 'sustainerRate': 0,\n",
      "                 'targetRateLimit': 1000000000,\n",
      "                 'timeAcquiringMicros': 780},\n",
      " 'freeMonitoring': {'state': 'undecided'},\n",
      " 'globalLock': {'activeClients': {'readers': 0, 'total': 0, 'writers': 0},\n",
      "                'currentQueue': {'readers': 0, 'total': 0, 'writers': 0},\n",
      "                'totalTime': 9517499000},\n",
      " 'host': 'WARLOCK.fritz.box',\n",
      " 'localTime': datetime.datetime(2020, 2, 6, 11, 22, 13, 521000),\n",
      " 'locks': {'Collection': {'acquireCount': {'R': 1,\n",
      "                                           'W': 5,\n",
      "                                           'r': 9971,\n",
      "                                           'w': 1059}},\n",
      "           'Database': {'acquireCount': {'W': 7, 'r': 9910, 'w': 1062}},\n",
      "           'Global': {'acquireCount': {'W': 4, 'r': 28279, 'w': 1068}},\n",
      "           'Mutex': {'acquireCount': {'r': 17959}},\n",
      "           'ParallelBatchWriterMode': {'acquireCount': {'r': 1242}},\n",
      "           'ReplicationStateTransition': {'acquireCount': {'w': 29351}},\n",
      "           'oplog': {'acquireCount': {'r': 9458}}},\n",
      " 'logicalSessionRecordCache': {'activeSessionsCount': 1,\n",
      "                               'lastSessionsCollectionJobCursorsClosed': 0,\n",
      "                               'lastSessionsCollectionJobDurationMillis': 0,\n",
      "                               'lastSessionsCollectionJobEntriesEnded': 0,\n",
      "                               'lastSessionsCollectionJobEntriesRefreshed': 0,\n",
      "                               'lastSessionsCollectionJobTimestamp': datetime.datetime(2020, 2, 6, 11, 18, 38, 726000),\n",
      "                               'lastTransactionReaperJobDurationMillis': 0,\n",
      "                               'lastTransactionReaperJobEntriesCleanedUp': 0,\n",
      "                               'lastTransactionReaperJobTimestamp': datetime.datetime(2020, 2, 6, 11, 18, 38, 726000),\n",
      "                               'sessionCatalogSize': 0,\n",
      "                               'sessionsCollectionJobCount': 32,\n",
      "                               'transactionReaperJobCount': 32},\n",
      " 'mem': {'bits': 64, 'resident': 32, 'supported': True, 'virtual': 5436},\n",
      " 'metrics': {'commands': {'<UNKNOWN>': 0,\n",
      "                          '_addShard': {'failed': 0, 'total': 0},\n",
      "                          '_cloneCatalogData': {'failed': 0, 'total': 0},\n",
      "                          '_cloneCollectionOptionsFromPrimaryShard': {'failed': 0,\n",
      "                                                                      'total': 0},\n",
      "                          '_configsvrAddShard': {'failed': 0, 'total': 0},\n",
      "                          '_configsvrAddShardToZone': {'failed': 0, 'total': 0},\n",
      "                          '_configsvrBalancerStart': {'failed': 0, 'total': 0},\n",
      "                          '_configsvrBalancerStatus': {'failed': 0, 'total': 0},\n",
      "                          '_configsvrBalancerStop': {'failed': 0, 'total': 0},\n",
      "                          '_configsvrClearJumboFlag': {'failed': 0, 'total': 0},\n",
      "                          '_configsvrCommitChunkMerge': {'failed': 0,\n",
      "                                                         'total': 0},\n",
      "                          '_configsvrCommitChunkMigration': {'failed': 0,\n",
      "                                                             'total': 0},\n",
      "                          '_configsvrCommitChunkSplit': {'failed': 0,\n",
      "                                                         'total': 0},\n",
      "                          '_configsvrCommitMovePrimary': {'failed': 0,\n",
      "                                                          'total': 0},\n",
      "                          '_configsvrCreateCollection': {'failed': 0,\n",
      "                                                         'total': 0},\n",
      "                          '_configsvrCreateDatabase': {'failed': 0, 'total': 0},\n",
      "                          '_configsvrDropCollection': {'failed': 0, 'total': 0},\n",
      "                          '_configsvrDropDatabase': {'failed': 0, 'total': 0},\n",
      "                          '_configsvrEnableSharding': {'failed': 0, 'total': 0},\n",
      "                          '_configsvrMoveChunk': {'failed': 0, 'total': 0},\n",
      "                          '_configsvrMovePrimary': {'failed': 0, 'total': 0},\n",
      "                          '_configsvrRemoveShard': {'failed': 0, 'total': 0},\n",
      "                          '_configsvrRemoveShardFromZone': {'failed': 0,\n",
      "                                                            'total': 0},\n",
      "                          '_configsvrShardCollection': {'failed': 0,\n",
      "                                                        'total': 0},\n",
      "                          '_configsvrUpdateZoneKeyRange': {'failed': 0,\n",
      "                                                           'total': 0},\n",
      "                          '_flushDatabaseCacheUpdates': {'failed': 0,\n",
      "                                                         'total': 0},\n",
      "                          '_flushRoutingTableCacheUpdates': {'failed': 0,\n",
      "                                                             'total': 0},\n",
      "                          '_getNextSessionMods': {'failed': 0, 'total': 0},\n",
      "                          '_getUserCacheGeneration': {'failed': 0, 'total': 0},\n",
      "                          '_isSelf': {'failed': 0, 'total': 0},\n",
      "                          '_mergeAuthzCollections': {'failed': 0, 'total': 0},\n",
      "                          '_migrateClone': {'failed': 0, 'total': 0},\n",
      "                          '_movePrimary': {'failed': 0, 'total': 0},\n",
      "                          '_recvChunkAbort': {'failed': 0, 'total': 0},\n",
      "                          '_recvChunkCommit': {'failed': 0, 'total': 0},\n",
      "                          '_recvChunkStart': {'failed': 0, 'total': 0},\n",
      "                          '_recvChunkStatus': {'failed': 0, 'total': 0},\n",
      "                          '_shardsvrShardCollection': {'failed': 0, 'total': 0},\n",
      "                          '_transferMods': {'failed': 0, 'total': 0},\n",
      "                          'abortTransaction': {'failed': 0, 'total': 0},\n",
      "                          'aggregate': {'failed': 0, 'total': 1},\n",
      "                          'appendOplogNote': {'failed': 0, 'total': 0},\n",
      "                          'applyOps': {'failed': 0, 'total': 0},\n",
      "                          'authenticate': {'failed': 0, 'total': 0},\n",
      "                          'availableQueryOptions': {'failed': 0, 'total': 0},\n",
      "                          'buildInfo': {'failed': 0, 'total': 6},\n",
      "                          'checkShardingIndex': {'failed': 0, 'total': 0},\n",
      "                          'cleanupOrphaned': {'failed': 0, 'total': 0},\n",
      "                          'cloneCollection': {'failed': 0, 'total': 0},\n",
      "                          'cloneCollectionAsCapped': {'failed': 0, 'total': 0},\n",
      "                          'collMod': {'failed': 0, 'total': 0},\n",
      "                          'collStats': {'failed': 0, 'total': 0},\n",
      "                          'commitTransaction': {'failed': 0, 'total': 0},\n",
      "                          'compact': {'failed': 0, 'total': 0},\n",
      "                          'connPoolStats': {'failed': 0, 'total': 0},\n",
      "                          'connPoolSync': {'failed': 0, 'total': 0},\n",
      "                          'connectionStatus': {'failed': 0, 'total': 0},\n",
      "                          'convertToCapped': {'failed': 0, 'total': 0},\n",
      "                          'coordinateCommitTransaction': {'failed': 0,\n",
      "                                                          'total': 0},\n",
      "                          'count': {'failed': 0, 'total': 4},\n",
      "                          'create': {'failed': 0, 'total': 0},\n",
      "                          'createIndexes': {'failed': 0, 'total': 1},\n",
      "                          'createRole': {'failed': 0, 'total': 0},\n",
      "                          'createUser': {'failed': 0, 'total': 0},\n",
      "                          'currentOp': {'failed': 0, 'total': 0},\n",
      "                          'dataSize': {'failed': 0, 'total': 0},\n",
      "                          'dbHash': {'failed': 0, 'total': 0},\n",
      "                          'dbStats': {'failed': 0, 'total': 0},\n",
      "                          'delete': {'failed': 0, 'total': 9},\n",
      "                          'distinct': {'failed': 0, 'total': 0},\n",
      "                          'driverOIDTest': {'failed': 0, 'total': 0},\n",
      "                          'drop': {'failed': 0, 'total': 1},\n",
      "                          'dropAllRolesFromDatabase': {'failed': 0, 'total': 0},\n",
      "                          'dropAllUsersFromDatabase': {'failed': 0, 'total': 0},\n",
      "                          'dropConnections': {'failed': 0, 'total': 0},\n",
      "                          'dropDatabase': {'failed': 0, 'total': 0},\n",
      "                          'dropIndexes': {'failed': 0, 'total': 0},\n",
      "                          'dropRole': {'failed': 0, 'total': 0},\n",
      "                          'dropUser': {'failed': 0, 'total': 0},\n",
      "                          'endSessions': {'failed': 0, 'total': 2},\n",
      "                          'explain': {'failed': 0, 'total': 0},\n",
      "                          'features': {'failed': 0, 'total': 0},\n",
      "                          'filemd5': {'failed': 0, 'total': 0},\n",
      "                          'find': {'failed': 2, 'total': 112},\n",
      "                          'findAndModify': {'failed': 0, 'total': 0},\n",
      "                          'flushRouterConfig': {'failed': 0, 'total': 0},\n",
      "                          'fsync': {'failed': 0, 'total': 0},\n",
      "                          'fsyncUnlock': {'failed': 0, 'total': 0},\n",
      "                          'geoSearch': {'failed': 0, 'total': 0},\n",
      "                          'getCmdLineOpts': {'failed': 0, 'total': 2},\n",
      "                          'getDatabaseVersion': {'failed': 0, 'total': 0},\n",
      "                          'getDiagnosticData': {'failed': 0, 'total': 0},\n",
      "                          'getFreeMonitoringStatus': {'failed': 0, 'total': 2},\n",
      "                          'getLastError': {'failed': 0, 'total': 0},\n",
      "                          'getLog': {'failed': 0, 'total': 2},\n",
      "                          'getMore': {'failed': 0, 'total': 13},\n",
      "                          'getParameter': {'failed': 0, 'total': 0},\n",
      "                          'getShardMap': {'failed': 0, 'total': 0},\n",
      "                          'getShardVersion': {'failed': 0, 'total': 0},\n",
      "                          'getnonce': {'failed': 0, 'total': 0},\n",
      "                          'grantPrivilegesToRole': {'failed': 0, 'total': 0},\n",
      "                          'grantRolesToRole': {'failed': 0, 'total': 0},\n",
      "                          'grantRolesToUser': {'failed': 0, 'total': 0},\n",
      "                          'hostInfo': {'failed': 0, 'total': 0},\n",
      "                          'insert': {'failed': 0, 'total': 812},\n",
      "                          'invalidateUserCache': {'failed': 0, 'total': 0},\n",
      "                          'isMaster': {'failed': 0, 'total': 903},\n",
      "                          'killAllSessions': {'failed': 0, 'total': 0},\n",
      "                          'killAllSessionsByPattern': {'failed': 0, 'total': 0},\n",
      "                          'killCursors': {'failed': 0, 'total': 0},\n",
      "                          'killOp': {'failed': 0, 'total': 0},\n",
      "                          'killSessions': {'failed': 0, 'total': 0},\n",
      "                          'listCollections': {'failed': 0, 'total': 3},\n",
      "                          'listCommands': {'failed': 0, 'total': 0},\n",
      "                          'listDatabases': {'failed': 0, 'total': 0},\n",
      "                          'listIndexes': {'failed': 2, 'total': 64},\n",
      "                          'lockInfo': {'failed': 0, 'total': 0},\n",
      "                          'logRotate': {'failed': 0, 'total': 0},\n",
      "                          'logout': {'failed': 0, 'total': 0},\n",
      "                          'mapReduce': {'failed': 0, 'total': 0},\n",
      "                          'mapreduce': {'shardedfinish': {'failed': 0,\n",
      "                                                          'total': 0}},\n",
      "                          'mergeChunks': {'failed': 0, 'total': 0},\n",
      "                          'moveChunk': {'failed': 0, 'total': 0},\n",
      "                          'ping': {'failed': 0, 'total': 0},\n",
      "                          'planCacheClear': {'failed': 0, 'total': 0},\n",
      "                          'planCacheClearFilters': {'failed': 0, 'total': 0},\n",
      "                          'planCacheListFilters': {'failed': 0, 'total': 0},\n",
      "                          'planCacheListPlans': {'failed': 0, 'total': 0},\n",
      "                          'planCacheListQueryShapes': {'failed': 0, 'total': 0},\n",
      "                          'planCacheSetFilter': {'failed': 0, 'total': 0},\n",
      "                          'prepareTransaction': {'failed': 0, 'total': 0},\n",
      "                          'profile': {'failed': 0, 'total': 0},\n",
      "                          'reIndex': {'failed': 0, 'total': 0},\n",
      "                          'refreshSessions': {'failed': 0, 'total': 0},\n",
      "                          'renameCollection': {'failed': 0, 'total': 0},\n",
      "                          'repairCursor': {'failed': 0, 'total': 0},\n",
      "                          'repairDatabase': {'failed': 0, 'total': 0},\n",
      "                          'replSetAbortPrimaryCatchUp': {'failed': 0,\n",
      "                                                         'total': 0},\n",
      "                          'replSetFreeze': {'failed': 0, 'total': 0},\n",
      "                          'replSetGetConfig': {'failed': 0, 'total': 0},\n",
      "                          'replSetGetRBID': {'failed': 0, 'total': 0},\n",
      "                          'replSetGetStatus': {'failed': 2, 'total': 2},\n",
      "                          'replSetHeartbeat': {'failed': 0, 'total': 0},\n",
      "                          'replSetInitiate': {'failed': 0, 'total': 0},\n",
      "                          'replSetMaintenance': {'failed': 0, 'total': 0},\n",
      "                          'replSetReconfig': {'failed': 0, 'total': 0},\n",
      "                          'replSetRequestVotes': {'failed': 0, 'total': 0},\n",
      "                          'replSetResizeOplog': {'failed': 0, 'total': 0},\n",
      "                          'replSetStepDown': {'failed': 0, 'total': 0},\n",
      "                          'replSetStepDownWithForce': {'failed': 0, 'total': 0},\n",
      "                          'replSetStepUp': {'failed': 0, 'total': 0},\n",
      "                          'replSetSyncFrom': {'failed': 0, 'total': 0},\n",
      "                          'replSetUpdatePosition': {'failed': 0, 'total': 0},\n",
      "                          'resetError': {'failed': 0, 'total': 0},\n",
      "                          'revokePrivilegesFromRole': {'failed': 0, 'total': 0},\n",
      "                          'revokeRolesFromRole': {'failed': 0, 'total': 0},\n",
      "                          'revokeRolesFromUser': {'failed': 0, 'total': 0},\n",
      "                          'rolesInfo': {'failed': 0, 'total': 0},\n",
      "                          'saslContinue': {'failed': 0, 'total': 0},\n",
      "                          'saslStart': {'failed': 0, 'total': 0},\n",
      "                          'serverStatus': {'failed': 0, 'total': 7},\n",
      "                          'setFeatureCompatibilityVersion': {'failed': 0,\n",
      "                                                             'total': 0},\n",
      "                          'setFreeMonitoring': {'failed': 0, 'total': 0},\n",
      "                          'setIndexCommitQuorum': {'failed': 0, 'total': 0},\n",
      "                          'setParameter': {'failed': 0, 'total': 0},\n",
      "                          'setShardVersion': {'failed': 0, 'total': 0},\n",
      "                          'shardConnPoolStats': {'failed': 0, 'total': 0},\n",
      "                          'shardingState': {'failed': 0, 'total': 0},\n",
      "                          'shutdown': {'failed': 0, 'total': 0},\n",
      "                          'splitChunk': {'failed': 0, 'total': 0},\n",
      "                          'splitVector': {'failed': 0, 'total': 0},\n",
      "                          'startRecordingTraffic': {'failed': 0, 'total': 0},\n",
      "                          'startSession': {'failed': 0, 'total': 0},\n",
      "                          'stopRecordingTraffic': {'failed': 0, 'total': 0},\n",
      "                          'top': {'failed': 0, 'total': 0},\n",
      "                          'touch': {'failed': 0, 'total': 0},\n",
      "                          'unsetSharding': {'failed': 0, 'total': 0},\n",
      "                          'update': {'failed': 0, 'total': 31},\n",
      "                          'updateRole': {'failed': 0, 'total': 0},\n",
      "                          'updateUser': {'failed': 0, 'total': 0},\n",
      "                          'usersInfo': {'failed': 0, 'total': 0},\n",
      "                          'validate': {'failed': 0, 'total': 0},\n",
      "                          'voteCommitIndexBuild': {'failed': 0, 'total': 0},\n",
      "                          'waitForFailPoint': {'failed': 0, 'total': 0},\n",
      "                          'whatsmyuri': {'failed': 0, 'total': 2}},\n",
      "             'cursor': {'open': {'noTimeout': 0, 'pinned': 0, 'total': 0},\n",
      "                        'timedOut': 2},\n",
      "             'document': {'deleted': 2043,\n",
      "                          'inserted': 2660,\n",
      "                          'returned': 3520,\n",
      "                          'updated': 330},\n",
      "             'getLastError': {'wtime': {'num': 0, 'totalMillis': 0},\n",
      "                              'wtimeouts': 0},\n",
      "             'operation': {'scanAndOrder': 3, 'writeConflicts': 0},\n",
      "             'query': {'planCacheTotalSizeEstimateBytes': 0,\n",
      "                       'updateOneOpStyleBroadcastWithExactIDCount': 0},\n",
      "             'queryExecutor': {'scanned': 24, 'scannedObjects': 19326},\n",
      "             'record': {'moves': 0},\n",
      "             'repl': {'apply': {'attemptsToBecomeSecondary': 0,\n",
      "                                'batchSize': 0,\n",
      "                                'batches': {'num': 0, 'totalMillis': 0},\n",
      "                                'ops': 0},\n",
      "                      'buffer': {'count': 0, 'maxSizeBytes': 0, 'sizeBytes': 0},\n",
      "                      'executor': {'networkInterface': 'DEPRECATED: '\n",
      "                                                       'getDiagnosticString is '\n",
      "                                                       'deprecated in '\n",
      "                                                       'NetworkInterfaceTL',\n",
      "                                   'pool': {'inProgressCount': 0},\n",
      "                                   'queues': {'networkInProgress': 0,\n",
      "                                              'sleepers': 0},\n",
      "                                   'shuttingDown': False,\n",
      "                                   'unsignaledEvents': 0},\n",
      "                      'initialSync': {'completed': 0,\n",
      "                                      'failedAttempts': 0,\n",
      "                                      'failures': 0},\n",
      "                      'network': {'bytes': 0,\n",
      "                                  'getmores': {'num': 0, 'totalMillis': 0},\n",
      "                                  'notMasterLegacyUnacknowledgedWrites': 0,\n",
      "                                  'notMasterUnacknowledgedWrites': 0,\n",
      "                                  'ops': 0,\n",
      "                                  'readersCreated': 0},\n",
      "                      'stateTransition': {'lastStateTransition': '',\n",
      "                                          'userOperationsKilled': 0,\n",
      "                                          'userOperationsRunning': 0}},\n",
      "             'ttl': {'deletedDocuments': 3, 'passes': 158}},\n",
      " 'network': {'bytesIn': 2539215,\n",
      "             'bytesOut': 930570,\n",
      "             'compression': {'snappy': {'compressor': {'bytesIn': 0,\n",
      "                                                       'bytesOut': 0},\n",
      "                                        'decompressor': {'bytesIn': 0,\n",
      "                                                         'bytesOut': 0}},\n",
      "                             'zlib': {'compressor': {'bytesIn': 0,\n",
      "                                                     'bytesOut': 0},\n",
      "                                      'decompressor': {'bytesIn': 0,\n",
      "                                                       'bytesOut': 0}},\n",
      "                             'zstd': {'compressor': {'bytesIn': 0,\n",
      "                                                     'bytesOut': 0},\n",
      "                                      'decompressor': {'bytesIn': 0,\n",
      "                                                       'bytesOut': 0}}},\n",
      "             'numRequests': 1854,\n",
      "             'physicalBytesIn': 2539215,\n",
      "             'physicalBytesOut': 930570,\n",
      "             'serviceExecutorTaskStats': {'executor': 'passthrough',\n",
      "                                          'threadsRunning': 4}},\n",
      " 'ok': 1.0,\n",
      " 'opLatencies': {'commands': {'latency': 66361, 'ops': 931},\n",
      "                 'reads': {'latency': 49315, 'ops': 96},\n",
      "                 'transactions': {'latency': 0, 'ops': 0},\n",
      "                 'writes': {'latency': 221580, 'ops': 826}},\n",
      " 'opReadConcernCounters': {'available': 0,\n",
      "                           'linearizable': 0,\n",
      "                           'local': 0,\n",
      "                           'majority': 0,\n",
      "                           'none': 112,\n",
      "                           'snapshot': 0},\n",
      " 'opcounters': {'command': 1002,\n",
      "                'delete': 9,\n",
      "                'getmore': 13,\n",
      "                'insert': 2666,\n",
      "                'query': 112,\n",
      "                'update': 31},\n",
      " 'opcountersRepl': {'command': 0,\n",
      "                    'delete': 0,\n",
      "                    'getmore': 0,\n",
      "                    'insert': 0,\n",
      "                    'query': 0,\n",
      "                    'update': 0},\n",
      " 'pid': 16457,\n",
      " 'process': 'mongod',\n",
      " 'storageEngine': {'backupCursorOpen': False,\n",
      "                   'dropPendingIdents': 0,\n",
      "                   'name': 'wiredTiger',\n",
      "                   'oldestRequiredTimestampForCrashRecovery': Timestamp(0, 0),\n",
      "                   'persistent': True,\n",
      "                   'readOnly': False,\n",
      "                   'supportsCommittedReads': True,\n",
      "                   'supportsPendingDrops': True,\n",
      "                   'supportsSnapshotReadConcern': True},\n",
      " 'trafficRecording': {'running': False},\n",
      " 'transactions': {'currentActive': 0,\n",
      "                  'currentInactive': 0,\n",
      "                  'currentOpen': 0,\n",
      "                  'currentPrepared': 0,\n",
      "                  'retriedCommandsCount': 0,\n",
      "                  'retriedStatementsCount': 0,\n",
      "                  'totalAborted': 0,\n",
      "                  'totalCommitted': 0,\n",
      "                  'totalPrepared': 0,\n",
      "                  'totalPreparedThenAborted': 0,\n",
      "                  'totalPreparedThenCommitted': 0,\n",
      "                  'totalStarted': 0,\n",
      "                  'transactionsCollectionWriteCount': 0},\n",
      " 'transportSecurity': {'1.0': 0, '1.1': 0, '1.2': 0, '1.3': 0, 'unknown': 0},\n",
      " 'twoPhaseCommitCoordinator': {'currentInSteps': {'deletingCoordinatorDoc': 0,\n",
      "                                                  'waitingForDecisionAcks': 0,\n",
      "                                                  'waitingForVotes': 0,\n",
      "                                                  'writingDecision': 0,\n",
      "                                                  'writingParticipantList': 0},\n",
      "                               'totalAbortedTwoPhaseCommit': 0,\n",
      "                               'totalCommittedTwoPhaseCommit': 0,\n",
      "                               'totalCreated': 0,\n",
      "                               'totalStartedTwoPhaseCommit': 0},\n",
      " 'uptime': 9517.0,\n",
      " 'uptimeEstimate': 9517,\n",
      " 'uptimeMillis': 9517502,\n",
      " 'version': '4.2.3',\n",
      " 'wiredTiger': {'async': {'current work queue length': 0,\n",
      "                          'maximum work queue length': 0,\n",
      "                          'number of allocation state races': 0,\n",
      "                          'number of flush calls': 0,\n",
      "                          'number of operation slots viewed for allocation': 0,\n",
      "                          'number of times operation allocation failed': 0,\n",
      "                          'number of times worker found no work': 0,\n",
      "                          'total allocations': 0,\n",
      "                          'total compact calls': 0,\n",
      "                          'total insert calls': 0,\n",
      "                          'total remove calls': 0,\n",
      "                          'total search calls': 0,\n",
      "                          'total update calls': 0},\n",
      "                'block-manager': {'blocks pre-loaded': 0,\n",
      "                                  'blocks read': 207,\n",
      "                                  'blocks written': 905,\n",
      "                                  'bytes read': 847872,\n",
      "                                  'bytes written': 5316608,\n",
      "                                  'bytes written for checkpoint': 5316608,\n",
      "                                  'mapped blocks read': 0,\n",
      "                                  'mapped bytes read': 0},\n",
      "                'cache': {'application threads page read from disk to cache count': 0,\n",
      "                          'application threads page read from disk to cache time (usecs)': 0,\n",
      "                          'application threads page write from cache to disk count': 457,\n",
      "                          'application threads page write from cache to disk time (usecs)': 133784,\n",
      "                          'bytes belonging to page images in the cache': 0,\n",
      "                          'bytes belonging to the cache overflow table in the cache': 182,\n",
      "                          'bytes currently in the cache': 292232,\n",
      "                          'bytes dirty in the cache cumulative': 9181061,\n",
      "                          'bytes not belonging to page images in the cache': 292232,\n",
      "                          'bytes read into cache': 0,\n",
      "                          'bytes written from cache': 4097518,\n",
      "                          'cache overflow cursor application thread wait time (usecs)': 0,\n",
      "                          'cache overflow cursor internal thread wait time (usecs)': 0,\n",
      "                          'cache overflow score': 0,\n",
      "                          'cache overflow table entries': 0,\n",
      "                          'cache overflow table insert calls': 0,\n",
      "                          'cache overflow table max on-disk size': 0,\n",
      "                          'cache overflow table on-disk size': 0,\n",
      "                          'cache overflow table remove calls': 0,\n",
      "                          'checkpoint blocked page eviction': 0,\n",
      "                          'eviction calls to get a page': 323,\n",
      "                          'eviction calls to get a page found queue empty': 322,\n",
      "                          'eviction calls to get a page found queue empty after locking': 0,\n",
      "                          'eviction currently operating in aggressive mode': 0,\n",
      "                          'eviction empty score': 0,\n",
      "                          'eviction passes of a file': 0,\n",
      "                          'eviction server candidate queue empty when topping up': 0,\n",
      "                          'eviction server candidate queue not empty when topping up': 0,\n",
      "                          'eviction server evicting pages': 0,\n",
      "                          'eviction server slept, because we did not make progress with eviction': 216,\n",
      "                          'eviction server unable to reach eviction goal': 0,\n",
      "                          'eviction server waiting for a leaf page': 4,\n",
      "                          'eviction state': 128,\n",
      "                          'eviction walk target pages histogram - 0-9': 0,\n",
      "                          'eviction walk target pages histogram - 10-31': 0,\n",
      "                          'eviction walk target pages histogram - 128 and higher': 0,\n",
      "                          'eviction walk target pages histogram - 32-63': 0,\n",
      "                          'eviction walk target pages histogram - 64-128': 0,\n",
      "                          'eviction walk target strategy both clean and dirty pages': 0,\n",
      "                          'eviction walk target strategy only clean pages': 0,\n",
      "                          'eviction walk target strategy only dirty pages': 0,\n",
      "                          'eviction walks abandoned': 0,\n",
      "                          'eviction walks gave up because they restarted their walk twice': 0,\n",
      "                          'eviction walks gave up because they saw too many pages and found no candidates': 0,\n",
      "                          'eviction walks gave up because they saw too many pages and found too few candidates': 0,\n",
      "                          'eviction walks reached end of tree': 0,\n",
      "                          'eviction walks started from root of tree': 0,\n",
      "                          'eviction walks started from saved location in tree': 0,\n",
      "                          'eviction worker thread active': 4,\n",
      "                          'eviction worker thread created': 0,\n",
      "                          'eviction worker thread evicting pages': 3,\n",
      "                          'eviction worker thread removed': 0,\n",
      "                          'eviction worker thread stable number': 0,\n",
      "                          'files with active eviction walks': 0,\n",
      "                          'files with new eviction walks started': 0,\n",
      "                          'force re-tuning of eviction workers once in a while': 0,\n",
      "                          'forced eviction - pages evicted that were clean count': 0,\n",
      "                          'forced eviction - pages evicted that were clean time (usecs)': 0,\n",
      "                          'forced eviction - pages evicted that were dirty count': 0,\n",
      "                          'forced eviction - pages evicted that were dirty time (usecs)': 0,\n",
      "                          'forced eviction - pages selected because of too many deleted items count': 3,\n",
      "                          'forced eviction - pages selected count': 0,\n",
      "                          'forced eviction - pages selected unable to be evicted count': 0,\n",
      "                          'forced eviction - pages selected unable to be evicted time': 0,\n",
      "                          'hazard pointer blocked page eviction': 0,\n",
      "                          'hazard pointer check calls': 3,\n",
      "                          'hazard pointer check entries walked': 0,\n",
      "                          'hazard pointer maximum array length': 0,\n",
      "                          'in-memory page passed criteria to be split': 0,\n",
      "                          'in-memory page splits': 0,\n",
      "                          'internal pages evicted': 0,\n",
      "                          'internal pages queued for eviction': 0,\n",
      "                          'internal pages seen by eviction walk': 0,\n",
      "                          'internal pages seen by eviction walk that are already queued': 0,\n",
      "                          'internal pages split during eviction': 0,\n",
      "                          'leaf pages split during eviction': 0,\n",
      "                          'maximum bytes configured': 8053063680.0,\n",
      "                          'maximum page size at eviction': 0,\n",
      "                          'modified pages evicted': 5,\n",
      "                          'modified pages evicted by application threads': 0,\n",
      "                          'operations timed out waiting for space in cache': 0,\n",
      "                          'overflow pages read into cache': 0,\n",
      "                          'page split during eviction deepened the tree': 0,\n",
      "                          'page written requiring cache overflow records': 0,\n",
      "                          'pages currently held in the cache': 25,\n",
      "                          'pages evicted by application threads': 0,\n",
      "                          'pages queued for eviction': 0,\n",
      "                          'pages queued for eviction post lru sorting': 0,\n",
      "                          'pages queued for urgent eviction': 3,\n",
      "                          'pages queued for urgent eviction during walk': 0,\n",
      "                          'pages read into cache': 0,\n",
      "                          'pages read into cache after truncate': 17,\n",
      "                          'pages read into cache after truncate in prepare state': 0,\n",
      "                          'pages read into cache requiring cache overflow entries': 0,\n",
      "                          'pages read into cache requiring cache overflow for checkpoint': 0,\n",
      "                          'pages read into cache skipping older cache overflow entries': 0,\n",
      "                          'pages read into cache with skipped cache overflow entries needed later': 0,\n",
      "                          'pages read into cache with skipped cache overflow entries needed later by checkpoint': 0,\n",
      "                          'pages requested from the cache': 18300,\n",
      "                          'pages seen by eviction walk': 0,\n",
      "                          'pages seen by eviction walk that are already queued': 0,\n",
      "                          'pages selected for eviction unable to be evicted': 0,\n",
      "                          'pages selected for eviction unable to be evicted as the parent page has overflow items': 0,\n",
      "                          'pages selected for eviction unable to be evicted because of active children on an internal page': 0,\n",
      "                          'pages selected for eviction unable to be evicted because of failure in reconciliation': 0,\n",
      "                          'pages selected for eviction unable to be evicted due to newer modifications on a clean page': 0,\n",
      "                          'pages walked for eviction': 0,\n",
      "                          'pages written from cache': 457,\n",
      "                          'pages written requiring in-memory restoration': 0,\n",
      "                          'percentage overhead': 8,\n",
      "                          'tracked bytes belonging to internal pages in the cache': 6037,\n",
      "                          'tracked bytes belonging to leaf pages in the cache': 286195,\n",
      "                          'tracked dirty bytes in the cache': 0,\n",
      "                          'tracked dirty pages in the cache': 0,\n",
      "                          'unmodified pages evicted': 0},\n",
      "                'capacity': {'background fsync file handles considered': 0,\n",
      "                             'background fsync file handles synced': 0,\n",
      "                             'background fsync time (msecs)': 0,\n",
      "                             'bytes read': 0,\n",
      "                             'bytes written for checkpoint': 1954178,\n",
      "                             'bytes written for eviction': 0,\n",
      "                             'bytes written for log': 1393152,\n",
      "                             'bytes written total': 3347330,\n",
      "                             'threshold to call fsync': 0,\n",
      "                             'time waiting due to total capacity (usecs)': 0,\n",
      "                             'time waiting during checkpoint (usecs)': 0,\n",
      "                             'time waiting during eviction (usecs)': 0,\n",
      "                             'time waiting during logging (usecs)': 0,\n",
      "                             'time waiting during read (usecs)': 0},\n",
      "                'concurrentTransactions': {'read': {'available': 127,\n",
      "                                                    'out': 1,\n",
      "                                                    'totalTickets': 128},\n",
      "                                           'write': {'available': 128,\n",
      "                                                     'out': 0,\n",
      "                                                     'totalTickets': 128}},\n",
      "                'connection': {'auto adjusting condition resets': 579,\n",
      "                               'auto adjusting condition wait calls': 54628,\n",
      "                               'detected system time went backwards': 0,\n",
      "                               'files currently open': 16,\n",
      "                               'memory allocations': 325393,\n",
      "                               'memory frees': 321654,\n",
      "                               'memory re-allocations': 40432,\n",
      "                               'pthread mutex condition wait calls': 114976,\n",
      "                               'pthread mutex shared lock read-lock calls': 110894,\n",
      "                               'pthread mutex shared lock write-lock calls': 9809,\n",
      "                               'total fsync I/Os': 644,\n",
      "                               'total read I/Os': 317,\n",
      "                               'total write I/Os': 1229},\n",
      "                'cursor': {'cached cursor count': 23,\n",
      "                           'cursor bulk loaded cursor insert calls': 0,\n",
      "                           'cursor close calls that result in cache': 2240,\n",
      "                           'cursor create calls': 126,\n",
      "                           'cursor insert calls': 6146,\n",
      "                           'cursor insert key and value bytes': 2469910,\n",
      "                           'cursor modify calls': 2,\n",
      "                           'cursor modify key and value bytes affected': 272,\n",
      "                           'cursor modify value bytes modified': 8,\n",
      "                           'cursor next calls': 19560,\n",
      "                           'cursor operation restarted': 0,\n",
      "                           'cursor prev calls': 17,\n",
      "                           'cursor remove calls': 4125,\n",
      "                           'cursor remove key bytes removed': 33493,\n",
      "                           'cursor reserve calls': 0,\n",
      "                           'cursor reset calls': 18522,\n",
      "                           'cursor search calls': 6663,\n",
      "                           'cursor search near calls': 2667,\n",
      "                           'cursor sweep buckets': 1886,\n",
      "                           'cursor sweep cursors closed': 2,\n",
      "                           'cursor sweep cursors examined': 39,\n",
      "                           'cursor sweeps': 314,\n",
      "                           'cursor truncate calls': 0,\n",
      "                           'cursor update calls': 0,\n",
      "                           'cursor update key and value bytes': 0,\n",
      "                           'cursor update value size change': 0,\n",
      "                           'cursors reused from cache': 2201,\n",
      "                           'open cursor count': 22},\n",
      "                'data-handle': {'connection data handle size': 456,\n",
      "                                'connection data handles currently active': 25,\n",
      "                                'connection sweep candidate became referenced': 0,\n",
      "                                'connection sweep dhandles closed': 3,\n",
      "                                'connection sweep dhandles removed from hash list': 135,\n",
      "                                'connection sweep time-of-death sets': 655,\n",
      "                                'connection sweeps': 922,\n",
      "                                'session dhandles swept': 8,\n",
      "                                'session sweep attempts': 115},\n",
      "                'lock': {'checkpoint lock acquisitions': 158,\n",
      "                         'checkpoint lock application thread wait time (usecs)': 101,\n",
      "                         'checkpoint lock internal thread wait time (usecs)': 0,\n",
      "                         'dhandle lock application thread time waiting (usecs)': 0,\n",
      "                         'dhandle lock internal thread time waiting (usecs)': 44,\n",
      "                         'dhandle read lock acquisitions': 36374,\n",
      "                         'dhandle write lock acquisitions': 298,\n",
      "                         'durable timestamp queue lock application thread time waiting (usecs)': 0,\n",
      "                         'durable timestamp queue lock internal thread time waiting (usecs)': 0,\n",
      "                         'durable timestamp queue read lock acquisitions': 0,\n",
      "                         'durable timestamp queue write lock acquisitions': 0,\n",
      "                         'metadata lock acquisitions': 88,\n",
      "                         'metadata lock application thread wait time (usecs)': 1,\n",
      "                         'metadata lock internal thread wait time (usecs)': 0,\n",
      "                         'read timestamp queue lock application thread time waiting (usecs)': 0,\n",
      "                         'read timestamp queue lock internal thread time waiting (usecs)': 0,\n",
      "                         'read timestamp queue read lock acquisitions': 0,\n",
      "                         'read timestamp queue write lock acquisitions': 0,\n",
      "                         'schema lock acquisitions': 111,\n",
      "                         'schema lock application thread wait time (usecs)': 0,\n",
      "                         'schema lock internal thread wait time (usecs)': 0,\n",
      "                         'table lock application thread time waiting for the table lock (usecs)': 0,\n",
      "                         'table lock internal thread time waiting for the table lock (usecs)': 0,\n",
      "                         'table read lock acquisitions': 0,\n",
      "                         'table write lock acquisitions': 21,\n",
      "                         'txn global lock application thread time waiting (usecs)': 0,\n",
      "                         'txn global lock internal thread time waiting (usecs)': 0,\n",
      "                         'txn global read lock acquisitions': 417,\n",
      "                         'txn global write lock acquisitions': 318},\n",
      "                'log': {'busy returns attempting to switch slots': 0,\n",
      "                        'force archive time sleeping (usecs)': 0,\n",
      "                        'log bytes of payload data': 1082621,\n",
      "                        'log bytes written': 1393024,\n",
      "                        'log files manually zero-filled': 0,\n",
      "                        'log flush operations': 55193,\n",
      "                        'log force write operations': 64531,\n",
      "                        'log force write operations skipped': 64426,\n",
      "                        'log records compressed': 299,\n",
      "                        'log records not compressed': 984,\n",
      "                        'log records too small to compress': 2294,\n",
      "                        'log release advances write LSN': 107,\n",
      "                        'log scan operations': 0,\n",
      "                        'log scan records requiring two reads': 0,\n",
      "                        'log server thread advances write LSN': 108,\n",
      "                        'log server thread write LSN walk skipped': 12747,\n",
      "                        'log sync operations': 212,\n",
      "                        'log sync time duration (usecs)': 1293896,\n",
      "                        'log sync_dir operations': 1,\n",
      "                        'log sync_dir time duration (usecs)': 3867,\n",
      "                        'log write operations': 3577,\n",
      "                        'logging bytes consolidated': 1392512,\n",
      "                        'maximum log file size': 104857600,\n",
      "                        'number of pre-allocated log files to create': 2,\n",
      "                        'pre-allocated log files not ready and missed': 1,\n",
      "                        'pre-allocated log files prepared': 2,\n",
      "                        'pre-allocated log files used': 0,\n",
      "                        'records processed by log scan': 0,\n",
      "                        'slot close lost race': 0,\n",
      "                        'slot close unbuffered waits': 0,\n",
      "                        'slot closures': 215,\n",
      "                        'slot join atomic update races': 0,\n",
      "                        'slot join calls atomic updates raced': 0,\n",
      "                        'slot join calls did not yield': 3577,\n",
      "                        'slot join calls found active slot closed': 0,\n",
      "                        'slot join calls slept': 0,\n",
      "                        'slot join calls yielded': 0,\n",
      "                        'slot join found active slot closed': 0,\n",
      "                        'slot joins yield time (usecs)': 0,\n",
      "                        'slot transitions unable to find free slot': 0,\n",
      "                        'slot unbuffered writes': 0,\n",
      "                        'total in-memory size of compressed records': 2331103,\n",
      "                        'total log buffer size': 33554432,\n",
      "                        'total size of compressed records': 826810,\n",
      "                        'written slots coalesced': 0,\n",
      "                        'yields waiting for previous log file close': 0},\n",
      "                'perf': {'file system read latency histogram (bucket 1) - 10-49ms': 0,\n",
      "                         'file system read latency histogram (bucket 2) - 50-99ms': 0,\n",
      "                         'file system read latency histogram (bucket 3) - 100-249ms': 0,\n",
      "                         'file system read latency histogram (bucket 4) - 250-499ms': 0,\n",
      "                         'file system read latency histogram (bucket 5) - 500-999ms': 0,\n",
      "                         'file system read latency histogram (bucket 6) - 1000ms+': 0,\n",
      "                         'file system write latency histogram (bucket 1) - 10-49ms': 0,\n",
      "                         'file system write latency histogram (bucket 2) - 50-99ms': 0,\n",
      "                         'file system write latency histogram (bucket 3) - 100-249ms': 0,\n",
      "                         'file system write latency histogram (bucket 4) - 250-499ms': 0,\n",
      "                         'file system write latency histogram (bucket 5) - 500-999ms': 0,\n",
      "                         'file system write latency histogram (bucket 6) - 1000ms+': 0,\n",
      "                         'operation read latency histogram (bucket 1) - 100-249us': 0,\n",
      "                         'operation read latency histogram (bucket 2) - 250-499us': 2,\n",
      "                         'operation read latency histogram (bucket 3) - 500-999us': 0,\n",
      "                         'operation read latency histogram (bucket 4) - 1000-9999us': 0,\n",
      "                         'operation read latency histogram (bucket 5) - 10000us+': 0,\n",
      "                         'operation write latency histogram (bucket 1) - 100-249us': 4,\n",
      "                         'operation write latency histogram (bucket 2) - 250-499us': 4,\n",
      "                         'operation write latency histogram (bucket 3) - 500-999us': 0,\n",
      "                         'operation write latency histogram (bucket 4) - 1000-9999us': 1,\n",
      "                         'operation write latency histogram (bucket 5) - 10000us+': 0},\n",
      "                'reconciliation': {'fast-path pages deleted': 0,\n",
      "                                   'page reconciliation calls': 455,\n",
      "                                   'page reconciliation calls for eviction': 3,\n",
      "                                   'pages deleted': 16,\n",
      "                                   'split bytes currently awaiting free': 0,\n",
      "                                   'split objects currently awaiting free': 0},\n",
      "                'session': {'open session count': 19,\n",
      "                            'session query timestamp calls': 0,\n",
      "                            'table alter failed calls': 0,\n",
      "                            'table alter successful calls': 0,\n",
      "                            'table alter unchanged and skipped': 0,\n",
      "                            'table compact failed calls': 0,\n",
      "                            'table compact successful calls': 0,\n",
      "                            'table create failed calls': 0,\n",
      "                            'table create successful calls': 14,\n",
      "                            'table drop failed calls': 0,\n",
      "                            'table drop successful calls': 3,\n",
      "                            'table import failed calls': 0,\n",
      "                            'table import successful calls': 0,\n",
      "                            'table rebalance failed calls': 0,\n",
      "                            'table rebalance successful calls': 0,\n",
      "                            'table rename failed calls': 0,\n",
      "                            'table rename successful calls': 0,\n",
      "                            'table salvage failed calls': 0,\n",
      "                            'table salvage successful calls': 0,\n",
      "                            'table truncate failed calls': 0,\n",
      "                            'table truncate successful calls': 0,\n",
      "                            'table verify failed calls': 0,\n",
      "                            'table verify successful calls': 0},\n",
      "                'snapshot-window-settings': {'cache pressure percentage threshold': 95,\n",
      "                                             'current available snapshots window size in seconds': 0,\n",
      "                                             'current cache pressure percentage': 0,\n",
      "                                             'latest majority snapshot timestamp available': 'Jan  '\n",
      "                                                                                             '1 '\n",
      "                                                                                             '01:00:00:0',\n",
      "                                             'max target available snapshots window size in seconds': 5,\n",
      "                                             'oldest majority snapshot timestamp available': 'Jan  '\n",
      "                                                                                             '1 '\n",
      "                                                                                             '01:00:00:0',\n",
      "                                             'target available snapshots window size in seconds': 5,\n",
      "                                             'total number of SnapshotTooOld errors': 0},\n",
      "                'thread-state': {'active filesystem fsync calls': 0,\n",
      "                                 'active filesystem read calls': 0,\n",
      "                                 'active filesystem write calls': 0},\n",
      "                'thread-yield': {'application thread time evicting (usecs)': 0,\n",
      "                                 'application thread time waiting for cache (usecs)': 0,\n",
      "                                 'connection close blocked waiting for transaction state stabilization': 0,\n",
      "                                 'connection close yielded for lsm manager shutdown': 0,\n",
      "                                 'data handle lock yielded': 0,\n",
      "                                 'get reference for page index and slot time sleeping (usecs)': 0,\n",
      "                                 'log server sync yielded for log write': 0,\n",
      "                                 'page access yielded due to prepare state change': 0,\n",
      "                                 'page acquire busy blocked': 0,\n",
      "                                 'page acquire eviction blocked': 0,\n",
      "                                 'page acquire locked blocked': 0,\n",
      "                                 'page acquire read blocked': 0,\n",
      "                                 'page acquire time sleeping (usecs)': 0,\n",
      "                                 'page delete rollback time sleeping for state change (usecs)': 0,\n",
      "                                 'page reconciliation yielded due to child modification': 0},\n",
      "                'transaction': {'Number of prepared updates': 0,\n",
      "                                'Number of prepared updates added to cache overflow': 0,\n",
      "                                'durable timestamp queue entries walked': 0,\n",
      "                                'durable timestamp queue insert to empty': 0,\n",
      "                                'durable timestamp queue inserts to head': 0,\n",
      "                                'durable timestamp queue inserts total': 0,\n",
      "                                'durable timestamp queue length': 0,\n",
      "                                'number of named snapshots created': 0,\n",
      "                                'number of named snapshots dropped': 0,\n",
      "                                'prepared transactions': 0,\n",
      "                                'prepared transactions committed': 0,\n",
      "                                'prepared transactions currently active': 0,\n",
      "                                'prepared transactions rolled back': 0,\n",
      "                                'query timestamp calls': 8913,\n",
      "                                'read timestamp queue entries walked': 0,\n",
      "                                'read timestamp queue insert to empty': 0,\n",
      "                                'read timestamp queue inserts to head': 0,\n",
      "                                'read timestamp queue inserts total': 0,\n",
      "                                'read timestamp queue length': 0,\n",
      "                                'rollback to stable calls': 0,\n",
      "                                'rollback to stable updates aborted': 0,\n",
      "                                'rollback to stable updates removed from cache overflow': 0,\n",
      "                                'set timestamp calls': 0,\n",
      "                                'set timestamp durable calls': 0,\n",
      "                                'set timestamp durable updates': 0,\n",
      "                                'set timestamp oldest calls': 0,\n",
      "                                'set timestamp oldest updates': 0,\n",
      "                                'set timestamp stable calls': 0,\n",
      "                                'set timestamp stable updates': 0,\n",
      "                                'transaction begins': 3876,\n",
      "                                'transaction checkpoint currently running': 0,\n",
      "                                'transaction checkpoint generation': 89,\n",
      "                                'transaction checkpoint max time (msecs)': 61,\n",
      "                                'transaction checkpoint min time (msecs)': 15,\n",
      "                                'transaction checkpoint most recent time (msecs)': 19,\n",
      "                                'transaction checkpoint scrub dirty target': 0,\n",
      "                                'transaction checkpoint scrub time (msecs)': 0,\n",
      "                                'transaction checkpoint total time (msecs)': 2727,\n",
      "                                'transaction checkpoints': 158,\n",
      "                                'transaction checkpoints skipped because database was clean': 70,\n",
      "                                'transaction failures due to cache overflow': 0,\n",
      "                                'transaction fsync calls for checkpoint after allocating the transaction ID': 88,\n",
      "                                'transaction fsync duration for checkpoint after allocating the transaction ID (usecs)': 0,\n",
      "                                'transaction range of IDs currently pinned': 0,\n",
      "                                'transaction range of IDs currently pinned by a checkpoint': 0,\n",
      "                                'transaction range of IDs currently pinned by named snapshots': 0,\n",
      "                                'transaction range of timestamps currently pinned': 0,\n",
      "                                'transaction range of timestamps pinned by a checkpoint': 0,\n",
      "                                'transaction range of timestamps pinned by the oldest active read timestamp': 0,\n",
      "                                'transaction range of timestamps pinned by the oldest timestamp': 0,\n",
      "                                'transaction read timestamp of the oldest active reader': 0,\n",
      "                                'transaction sync calls': 0,\n",
      "                                'transactions committed': 3264,\n",
      "                                'transactions rolled back': 613,\n",
      "                                'update conflicts': 0},\n",
      "                'uri': 'statistics:'}}\n"
     ]
    }
   ],
   "source": [
    "serverstatus = db.command(\"serverStatus\")\n",
    "pprint(serverstatus)"
   ]
  },
  {
   "cell_type": "markdown",
   "metadata": {},
   "source": [
    "### list collections"
   ]
  },
  {
   "cell_type": "code",
   "execution_count": 10,
   "metadata": {},
   "outputs": [
    {
     "data": {
      "text/plain": [
       "['shops']"
      ]
     },
     "execution_count": 10,
     "metadata": {},
     "output_type": "execute_result"
    }
   ],
   "source": [
    "db.list_collection_names()"
   ]
  },
  {
   "cell_type": "code",
   "execution_count": 9,
   "metadata": {},
   "outputs": [
    {
     "data": {
      "text/plain": [
       "{'_id': ObjectId('5e3be04cba687e77141ce276'),\n",
       " 'shop': 'lidl',\n",
       " 'address': 'Steglitzer Damm 95',\n",
       " 'zip': '12169',\n",
       " 'city': 'Berlin',\n",
       " 'district': 'Steglitz',\n",
       " 'closed': 1}"
      ]
     },
     "execution_count": 9,
     "metadata": {},
     "output_type": "execute_result"
    }
   ],
   "source": [
    "db.shops.find_one({\"zip\":\"12169\"})"
   ]
  },
  {
   "cell_type": "markdown",
   "metadata": {},
   "source": [
    "## scrap some data"
   ]
  },
  {
   "cell_type": "code",
   "execution_count": 80,
   "metadata": {},
   "outputs": [],
   "source": [
    "name = \"lidl\"\n",
    "zip_zone = 1\n",
    "url = f\"http://meinprospekt.de/filialen/{name}/{zip_zone}\""
   ]
  },
  {
   "cell_type": "code",
   "execution_count": 81,
   "metadata": {},
   "outputs": [],
   "source": [
    "response = requests.get(url)"
   ]
  },
  {
   "cell_type": "code",
   "execution_count": 82,
   "metadata": {},
   "outputs": [],
   "source": [
    "soup = bs4.BeautifulSoup(response.text, \"html5lib\")"
   ]
  },
  {
   "cell_type": "code",
   "execution_count": 105,
   "metadata": {},
   "outputs": [],
   "source": [
    "shops = {}\n",
    "shopid = 0\n",
    "\n",
    "for row in soup.find_all('a', attrs={'class': 'mp-address'}):\n",
    "    \n",
    "    address = row.find('span', attrs={'itemprop': 'streetAddress'}).text\n",
    "    zipcode = row.find('span', attrs={'itemprop': 'postalCode'}).text\n",
    "    city = row.find('span', attrs={'itemprop': 'addressLocality'}).text.split(\"-\")\n",
    "    \n",
    "    shops[shopid] = {\n",
    "        \"shop\": name,\n",
    "        \"address\": address,\n",
    "        \"zip\": zipcode,\n",
    "        \"city\": city[0],\n",
    "        \"district\": city[1] if len(city) > 1 else \"\"\n",
    "    }\n",
    "    \n",
    "    shopid += 1"
   ]
  },
  {
   "cell_type": "markdown",
   "metadata": {},
   "source": [
    "## INSERT"
   ]
  },
  {
   "cell_type": "markdown",
   "metadata": {},
   "source": [
    "#### insert_one"
   ]
  },
  {
   "cell_type": "code",
   "execution_count": 61,
   "metadata": {
    "collapsed": true,
    "jupyter": {
     "outputs_hidden": true
    }
   },
   "outputs": [
    {
     "name": "stdout",
     "output_type": "stream",
     "text": [
      "Created Leipziger Str. 42 with ObjectID 5e3be04cba687e77141ce222\n",
      "Created Choriner Str. 64/64a with ObjectID 5e3be04cba687e77141ce223\n",
      "Created Heinrich-Heine-Str. 30 with ObjectID 5e3be04cba687e77141ce224\n",
      "Created Friedenstr. 94 a with ObjectID 5e3be04cba687e77141ce225\n",
      "Created Charlottenstr. 2 with ObjectID 5e3be04cba687e77141ce226\n",
      "Created Luisenstr. 52 with ObjectID 5e3be04cba687e77141ce227\n",
      "Created Prenzlauer Allee 44 with ObjectID 5e3be04cba687e77141ce228\n",
      "Created Greifswalder Str. 33a with ObjectID 5e3be04cba687e77141ce229\n",
      "Created Oranienplatz 4 with ObjectID 5e3be04cba687e77141ce22a\n",
      "Created Stresemannstr. 68-78 with ObjectID 5e3be04cba687e77141ce22b\n",
      "Created Kottbusser Str. 16a with ObjectID 5e3be04cba687e77141ce22c\n",
      "Created Zeughofstr. 23A with ObjectID 5e3be04cba687e77141ce22d\n",
      "Created Brunnenstr. 87 with ObjectID 5e3be04cba687e77141ce22e\n",
      "Created Kniprodestr. 26 with ObjectID 5e3be04cba687e77141ce22f\n",
      "Created Prenzlauer Allee 93 with ObjectID 5e3be04cba687e77141ce230\n",
      "Created Warschauer Platz 14 with ObjectID 5e3be04cba687e77141ce231\n",
      "Created Maybachufer 32-33 with ObjectID 5e3be04cba687e77141ce232\n",
      "Created Wisbyer Str. 16 with ObjectID 5e3be04cba687e77141ce233\n",
      "Created Bornholmer Str. 65 with ObjectID 5e3be04cba687e77141ce234\n",
      "Created Badstr. 60 with ObjectID 5e3be04cba687e77141ce235\n",
      "Created Rigaer Str. 36-38 with ObjectID 5e3be04cba687e77141ce236\n",
      "Created Roelckestr. 172 with ObjectID 5e3be04cba687e77141ce237\n",
      "Created Eldenaer Str. 34A with ObjectID 5e3be04cba687e77141ce238\n",
      "Created Kreuzbergstr. 40 with ObjectID 5e3be04cba687e77141ce239\n",
      "Created Quitzowstr. 23 with ObjectID 5e3be04cba687e77141ce23a\n",
      "Created Reinickendorfer Str. 41 with ObjectID 5e3be04cba687e77141ce23b\n",
      "Created Prinzenallee 75 with ObjectID 5e3be04cba687e77141ce23c\n",
      "Created Boxhagener Str. 76-78 with ObjectID 5e3be04cba687e77141ce23d\n",
      "Created Markgrafendamm 25c with ObjectID 5e3be04cba687e77141ce23e\n",
      "Created Kleiststr. 3-6 with ObjectID 5e3be04cba687e77141ce23f\n",
      "Created Potsdamer Str. 203 with ObjectID 5e3be04cba687e77141ce240\n",
      "Created Pistoriusstr. 66-67 with ObjectID 5e3be04cba687e77141ce241\n",
      "Created Dudenstr. 90 with ObjectID 5e3be04cba687e77141ce242\n",
      "Created Flughafenstr. 1 with ObjectID 5e3be04cba687e77141ce243\n",
      "Created Möllendorffstr. 75A with ObjectID 5e3be04cba687e77141ce244\n",
      "Created Berliner Str. 27-28 with ObjectID 5e3be04cba687e77141ce245\n",
      "Created Donaustr. 96 with ObjectID 5e3be04cba687e77141ce246\n",
      "Created Hermannstr. 55 with ObjectID 5e3be04cba687e77141ce247\n",
      "Created Indira-Gandhi-Straße 101 with ObjectID 5e3be04cba687e77141ce248\n",
      "Created Ruschestr. 64-70 with ObjectID 5e3be04cba687e77141ce249\n",
      "Created Müllerstr. 48/48a with ObjectID 5e3be04cba687e77141ce24a\n",
      "Created Provinzstr. 30 with ObjectID 5e3be04cba687e77141ce24b\n",
      "Created Kiefholzstr. 386 with ObjectID 5e3be04cba687e77141ce24c\n",
      "Created Prenzlauer Promenade 65-67 with ObjectID 5e3be04cba687e77141ce24d\n",
      "Created Markstr. 39-42 with ObjectID 5e3be04cba687e77141ce24e\n",
      "Created Hauptstr. 122 with ObjectID 5e3be04cba687e77141ce24f\n",
      "Created Meinekestr. 22 with ObjectID 5e3be04cba687e77141ce250\n",
      "Created Sonnenallee 192 with ObjectID 5e3be04cba687e77141ce251\n",
      "Created Frankfurter Allee 212 with ObjectID 5e3be04cba687e77141ce252\n",
      "Created Grabbeallee 27/29 with ObjectID 5e3be04cba687e77141ce253\n",
      "Created Tempelhofer Damm 130 with ObjectID 5e3be04cba687e77141ce254\n",
      "Created Blankenburger Str. 17a with ObjectID 5e3be04cba687e77141ce255\n",
      "Created Oberlandstr. 17 with ObjectID 5e3be04cba687e77141ce256\n",
      "Created Nuthestr. 5 with ObjectID 5e3be04cba687e77141ce257\n",
      "Created Knesebeckstr. 47/48 with ObjectID 5e3be04cba687e77141ce258\n",
      "Created Lahnstr. 61 with ObjectID 5e3be04cba687e77141ce259\n",
      "Created Berliner Allee 300 with ObjectID 5e3be04cba687e77141ce25a\n",
      "Created Innsbrucker Platz (im U-Bahnhof) with ObjectID 5e3be04cba687e77141ce25b\n",
      "Created Große-Leege-Straße 95 with ObjectID 5e3be04cba687e77141ce25c\n",
      "Created Glasower Str. 42 with ObjectID 5e3be04cba687e77141ce25d\n",
      "Created Einbecker Str. 57 with ObjectID 5e3be04cba687e77141ce25e\n",
      "Created Berliner Str. 26/27 with ObjectID 5e3be04cba687e77141ce25f\n",
      "Created Lise-Meitner-Str. 6 with ObjectID 5e3be04cba687e77141ce260\n",
      "Created Vorarlberger Damm 24 with ObjectID 5e3be04cba687e77141ce261\n",
      "Created Wilmersdorfer Str. 126 with ObjectID 5e3be04cba687e77141ce262\n",
      "Created Tempelhofer Weg 14 with ObjectID 5e3be04cba687e77141ce263\n",
      "Created Manteuffelstr. 24-25 with ObjectID 5e3be04cba687e77141ce264\n",
      "Created Ollenhauerstr. 7 with ObjectID 5e3be04cba687e77141ce265\n",
      "Created Tempelhofer Damm 215-219 with ObjectID 5e3be04cba687e77141ce266\n",
      "Created Malchower Weg 134 with ObjectID 5e3be04cba687e77141ce267\n",
      "Created Gervinusstr. 30 with ObjectID 5e3be04cba687e77141ce268\n",
      "Created Dietzgenstr. 102 with ObjectID 5e3be04cba687e77141ce269\n",
      "Created Seesener Str. 10-13 with ObjectID 5e3be04cba687e77141ce26a\n",
      "Created Späthstr. 162 with ObjectID 5e3be04cba687e77141ce26b\n",
      "Created Sophie-Charlotten-Str. 31 with ObjectID 5e3be04cba687e77141ce26c\n",
      "Created Kiefholzstr. 189 with ObjectID 5e3be04cba687e77141ce26d\n",
      "Created Ontarioseestr. 17 with ObjectID 5e3be04cba687e77141ce26e\n",
      "Created Pasewalker Str. 77 with ObjectID 5e3be04cba687e77141ce26f\n",
      "Created Schlossstr. 1 with ObjectID 5e3be04cba687e77141ce270\n",
      "Created Gehrenseestr. 11 with ObjectID 5e3be04cba687e77141ce271\n",
      "Created Waldstr. 14-21 with ObjectID 5e3be04cba687e77141ce272\n",
      "Created Marzahner Chaussee 189 with ObjectID 5e3be04cba687e77141ce273\n",
      "Created Roedernallee 45-50 with ObjectID 5e3be04cba687e77141ce274\n",
      "Created Fürstenbrunner Weg 14-16 with ObjectID 5e3be04cba687e77141ce275\n",
      "Created Steglitzer Damm 95 with ObjectID 5e3be04cba687e77141ce276\n",
      "Created Bergstr. 86 with ObjectID 5e3be04cba687e77141ce277\n",
      "Created Märkische Allee 140A with ObjectID 5e3be04cba687e77141ce278\n",
      "Created Rothenburgstr. 38a with ObjectID 5e3be04cba687e77141ce279\n",
      "Created Gutschmidtstr. 101 with ObjectID 5e3be04cba687e77141ce27a\n",
      "Created Großbeerenstr. 2 with ObjectID 5e3be04cba687e77141ce27b\n",
      "Created Holzhauser Str. 168.17 with ObjectID 5e3be04cba687e77141ce27c\n",
      "Created Allee der Kosmonauten 141A with ObjectID 5e3be04cba687e77141ce27d\n",
      "Created Kaiser-Wilhelm-Str. 127 with ObjectID 5e3be04cba687e77141ce27e\n",
      "Created Quickborner Str. 66-70 with ObjectID 5e3be04cba687e77141ce27f\n",
      "Created Wilhelminenhofstr. 83-85 with ObjectID 5e3be04cba687e77141ce280\n",
      "Created Birkbuschstr. 54 with ObjectID 5e3be04cba687e77141ce281\n",
      "Created Buckower Damm 194 with ObjectID 5e3be04cba687e77141ce282\n",
      "Created Märkische Allee 276 with ObjectID 5e3be04cba687e77141ce283\n",
      "Created Blankenburger Chaussee 10 with ObjectID 5e3be04cba687e77141ce284\n",
      "Created Hindenburgdamm 94 with ObjectID 5e3be04cba687e77141ce285\n",
      "Created Cecilienstr. 161 with ObjectID 5e3be04cba687e77141ce286\n",
      "Created Lipschitzallee 50 with ObjectID 5e3be04cba687e77141ce287\n",
      "Created Kaiser-Wilhelm-Str. 6 with ObjectID 5e3be04cba687e77141ce288\n",
      "Created Charlottenburger Chaussee 18 with ObjectID 5e3be04cba687e77141ce289\n",
      "Created Säntisstr. 49 with ObjectID 5e3be04cba687e77141ce28a\n",
      "Created Neuköllner Str. 236-238 with ObjectID 5e3be04cba687e77141ce28b\n",
      "Created Prötzeler Ring 8 with ObjectID 5e3be04cba687e77141ce28c\n",
      "Created Chemnitzer Str. 174 with ObjectID 5e3be04cba687e77141ce28d\n",
      "Created Warmensteinacher Str. 57 with ObjectID 5e3be04cba687e77141ce28e\n",
      "Created Karolinenstr. 1-2 with ObjectID 5e3be04cba687e77141ce28f\n",
      "Created Malteserstr. 162-164 with ObjectID 5e3be04cba687e77141ce290\n",
      "Created Curtiusstr. 36-38 with ObjectID 5e3be04cba687e77141ce291\n",
      "Created Hüttenweg 50 with ObjectID 5e3be04cba687e77141ce292\n",
      "Created Nonnendammallee 175 with ObjectID 5e3be04cba687e77141ce293\n",
      "Created Berliner Str. 141 with ObjectID 5e3be04cba687e77141ce294\n",
      "Created Havemannstr. 1 with ObjectID 5e3be04cba687e77141ce295\n",
      "Created Feldberger Ring 1 with ObjectID 5e3be04cba687e77141ce296\n",
      "Created Alt-Kaulsdorf 56 with ObjectID 5e3be04cba687e77141ce297\n",
      "Created Gothaer Str. 49 with ObjectID 5e3be04cba687e77141ce298\n",
      "Created Zossener Str. 121 with ObjectID 5e3be04cba687e77141ce299\n",
      "Created Marienfelder Allee 202 with ObjectID 5e3be04cba687e77141ce29a\n",
      "Created Clayallee 278 with ObjectID 5e3be04cba687e77141ce29b\n",
      "Created Wismarer Str. 35 with ObjectID 5e3be04cba687e77141ce29c\n",
      "Created Semmelweisstr. 106 with ObjectID 5e3be04cba687e77141ce29d\n",
      "Created Adlergestell 291 with ObjectID 5e3be04cba687e77141ce29e\n",
      "Created Neuendorfer Str. 30 with ObjectID 5e3be04cba687e77141ce29f\n",
      "Created Mark-Twain-Str. 2 with ObjectID 5e3be04cba687e77141ce2a0\n",
      "Created Lichtenrader Damm 219 with ObjectID 5e3be04cba687e77141ce2a1\n",
      "Created Mühlenstr. 2 with ObjectID 5e3be04cba687e77141ce2a2\n",
      "Created Grünauer Str. 118 with ObjectID 5e3be04cba687e77141ce2a3\n",
      "Created Falkenseer Damm 19 with ObjectID 5e3be04cba687e77141ce2a4\n",
      "Created Seeburger Str. 18 with ObjectID 5e3be04cba687e77141ce2a5\n",
      "Created Wendenschloßstr. 9 with ObjectID 5e3be04cba687e77141ce2a6\n",
      "Created Am Omnibushof 13 with ObjectID 5e3be04cba687e77141ce2a7\n",
      "Created Altglienicker Chaussee 13 with ObjectID 5e3be04cba687e77141ce2a8\n",
      "Created Mahlsdorfer Str. 82 with ObjectID 5e3be04cba687e77141ce2a9\n",
      "Created Teltower Damm 295 with ObjectID 5e3be04cba687e77141ce2aa\n",
      "Created Fürstenwalder Damm 425 with ObjectID 5e3be04cba687e77141ce2ab\n",
      "Created Bruno-Taut-Str. 4 with ObjectID 5e3be04cba687e77141ce2ac\n",
      "Created Ruppiner Chaussee 401 with ObjectID 5e3be04cba687e77141ce2ad\n",
      "Created Birkholzer Str. 1 with ObjectID 5e3be04cba687e77141ce2ae\n",
      "Created Karl-Marx-Str. 38-42 with ObjectID 5e3be04cba687e77141ce2af\n",
      "Created Elbestr. 1 with ObjectID 5e3be04cba687e77141ce2b0\n",
      "Created Seegefelder Weg 391 with ObjectID 5e3be04cba687e77141ce2b1\n",
      "Created Hauptstr. 63 with ObjectID 5e3be04cba687e77141ce2b2\n",
      "Created Berliner Damm 159-161 with ObjectID 5e3be04cba687e77141ce2b3\n",
      "Created Heerstr. 640 with ObjectID 5e3be04cba687e77141ce2b4\n",
      "Created Backofenweg 13 with ObjectID 5e3be04cba687e77141ce2b5\n",
      "Created Kladower Damm 363-365 with ObjectID 5e3be04cba687e77141ce2b6\n",
      "Created Wannseestr. 17 with ObjectID 5e3be04cba687e77141ce2b7\n",
      "Created Rosa-Luxemburg-Platz 1 with ObjectID 5e3be04cba687e77141ce2b8\n",
      "Created An der Anhalter Bahn 4 with ObjectID 5e3be04cba687e77141ce2b9\n",
      "Created Schwanebecker Chaussee 84 with ObjectID 5e3be04cba687e77141ce2ba\n",
      "Created Hauptstr. 100 with ObjectID 5e3be04cba687e77141ce2bb\n",
      "Created Falkenhagener Str. 86 with ObjectID 5e3be04cba687e77141ce2bc\n",
      "Created August-Bebel-Allee 38-44 with ObjectID 5e3be04cba687e77141ce2bd\n",
      "Created Ernst-Thälmann-Str. 28C with ObjectID 5e3be04cba687e77141ce2be\n",
      "Created Wilmsstr. 57 with ObjectID 5e3be04cba687e77141ce2bf\n",
      "Created Poststr. 20 with ObjectID 5e3be04cba687e77141ce2c0\n",
      "Created Großbeerenstr. 265 with ObjectID 5e3be04cba687e77141ce2c1\n",
      "Created August-Bebel-Str. 4-5 with ObjectID 5e3be04cba687e77141ce2c2\n",
      "Created Freienwalder Str. 33 with ObjectID 5e3be04cba687e77141ce2c3\n",
      "Created Zum Kirchsteigfeld 12 with ObjectID 5e3be04cba687e77141ce2c4\n",
      "Created Bernauer Chaussee 70 with ObjectID 5e3be04cba687e77141ce2c5\n",
      "Created Berliner Str. 121 with ObjectID 5e3be04cba687e77141ce2c6\n",
      "Created Dorfaue 33 with ObjectID 5e3be04cba687e77141ce2c7\n",
      "Created Horstweg 98 with ObjectID 5e3be04cba687e77141ce2c8\n",
      "Created Hohenbinder Weg 2 with ObjectID 5e3be04cba687e77141ce2c9\n",
      "Created Am Bahnhof 2 A with ObjectID 5e3be04cba687e77141ce2ca\n",
      "Created Eichenallee 41 with ObjectID 5e3be04cba687e77141ce2cb\n",
      "Created Berliner Str. 49 with ObjectID 5e3be04cba687e77141ce2cc\n",
      "Created Wiesbadener Straße 1 with ObjectID 5e3be04cba687e77141ce2cd\n",
      "Created Wustermarker Allee 16 with ObjectID 5e3be04cba687e77141ce2ce\n",
      "Created Potsdamer Str. 41-42 with ObjectID 5e3be04cba687e77141ce2cf\n",
      "Created Zeppelinstr. 56 with ObjectID 5e3be04cba687e77141ce2d0\n",
      "Created Luckenwalder Str. 68 with ObjectID 5e3be04cba687e77141ce2d1\n",
      "Created Bahnhofstr. 152a with ObjectID 5e3be04cba687e77141ce2d2\n",
      "Created Berliner Str. 93-94 with ObjectID 5e3be04cba687e77141ce2d3\n",
      "Created Stubenrauchstr. 25a with ObjectID 5e3be04cba687e77141ce2d4\n",
      "Created Berliner Tor 3 with ObjectID 5e3be04cba687e77141ce2d5\n",
      "Created Berliner Str. 38+40+42 with ObjectID 5e3be04cba687e77141ce2d6\n",
      "Created Berliner Str. 88 with ObjectID 5e3be04cba687e77141ce2d7\n",
      "Created Ruppiner Str. 57 with ObjectID 5e3be04cba687e77141ce2d8\n",
      "Created Am Elsholz 1 with ObjectID 5e3be04cba687e77141ce2d9\n",
      "Created Nauener Str. 9 with ObjectID 5e3be04cba687e77141ce2da\n",
      "Created Hammerallee 5 with ObjectID 5e3be04cba687e77141ce2db\n",
      "Created Schloßgutsiedlung 1 with ObjectID 5e3be04cba687e77141ce2dc\n",
      "Created Clara-Zetkin-Str. 37 with ObjectID 5e3be04cba687e77141ce2dd\n",
      "Created Heegermühler Str. 1 with ObjectID 5e3be04cba687e77141ce2de\n",
      "Created Freienwalder Str. 30a with ObjectID 5e3be04cba687e77141ce2df\n",
      "Created Schloßstr. 5 with ObjectID 5e3be04cba687e77141ce2e0\n",
      "Created August-Bebel-Str. 65A with ObjectID 5e3be04cba687e77141ce2e1\n",
      "Created Schützenstr. 46 with ObjectID 5e3be04cba687e77141ce2e2\n",
      "Created Ernst-Thälmann-Str. 22 with ObjectID 5e3be04cba687e77141ce2e3\n",
      "Created Emstaler Landstr. 40 with ObjectID 5e3be04cba687e77141ce2e4\n",
      "Created Bahnhofstr. 45 with ObjectID 5e3be04cba687e77141ce2e5\n",
      "Created Altranfter Str. 4-8 with ObjectID 5e3be04cba687e77141ce2e6\n",
      "Created Frankfurter Str. 11 with ObjectID 5e3be04cba687e77141ce2e7\n",
      "Created Berliner Allee 30c with ObjectID 5e3be04cba687e77141ce2e8\n",
      "Created Potsdamer Str. 23 with ObjectID 5e3be04cba687e77141ce2e9\n",
      "Created Upstallstr. 22 with ObjectID 5e3be04cba687e77141ce2ea\n",
      "Created Wulkower Chaussee 5 with ObjectID 5e3be04cba687e77141ce2eb\n",
      "Created Neustädter Str. 53 with ObjectID 5e3be04cba687e77141ce2ec\n",
      "Created Friedrich-Franz-Str. 4 with ObjectID 5e3be04cba687e77141ce2ed\n",
      "Created Vorstadt Neumarkt 5-7 with ObjectID 5e3be04cba687e77141ce2ee\n",
      "Created Diedersdorfer Str. 1 with ObjectID 5e3be04cba687e77141ce2ef\n",
      "Created Prokopiusstr. 6 with ObjectID 5e3be04cba687e77141ce2f0\n",
      "Created Fürstenwalder Str. 9 with ObjectID 5e3be04cba687e77141ce2f1\n",
      "Created Brücker Landstr. 5 with ObjectID 5e3be04cba687e77141ce2f2\n",
      "Created Schwedter Str. 36 with ObjectID 5e3be04cba687e77141ce2f3\n",
      "Created Berliner Chaussee 23 with ObjectID 5e3be04cba687e77141ce2f4\n",
      "Created Bruno-Baum-Ring 11a with ObjectID 5e3be04cba687e77141ce2f5\n",
      "Created Hauptstr. 67 with ObjectID 5e3be04cba687e77141ce2f6\n",
      "Created Berliner Str. 41 with ObjectID 5e3be04cba687e77141ce2f7\n",
      "Created Ernst-Thälmann-Str. 2 with ObjectID 5e3be04cba687e77141ce2f8\n",
      "Created Ihlenweg 2 with ObjectID 5e3be04cba687e77141ce2f9\n",
      "Created Südpromenade 6 with ObjectID 5e3be04cba687e77141ce2fa\n",
      "Created Rathenaustr. 4 with ObjectID 5e3be04cba687e77141ce2fb\n",
      "Created Weinbergweg 36 with ObjectID 5e3be04cba687e77141ce2fc\n",
      "Created Bäckerstr. 1A with ObjectID 5e3be04cba687e77141ce2fd\n",
      "Created Perleberger Str. 55 with ObjectID 5e3be04cba687e77141ce2fe\n",
      "Created Berliner Str. 60f with ObjectID 5e3be04cba687e77141ce2ff\n",
      "Created Luzinweg 4 with ObjectID 5e3be04cba687e77141ce300\n",
      "Created Karl-Marx-Str. 35 with ObjectID 5e3be04cba687e77141ce301\n",
      "Created Stettiner Str. 47 with ObjectID 5e3be04cba687e77141ce302\n",
      "Created Perleberger Str. 42 with ObjectID 5e3be04cba687e77141ce303\n",
      "Created straßeelitzer Str. 2-4 with ObjectID 5e3be04cba687e77141ce304\n",
      "Created Strelitzer Str. 2-4 with ObjectID 5e3be04cba687e77141ce305\n",
      "Created Carl-Stolte-Str. 21 with ObjectID 5e3be04cba687e77141ce306\n",
      "Created Rostocker Str. 3 with ObjectID 5e3be04cba687e77141ce307\n",
      "Created Warener Chaussee 6 with ObjectID 5e3be04cba687e77141ce308\n",
      "Created Jüteritzer Str. 16 with ObjectID 5e3be04cba687e77141ce309\n",
      "Created Kruseshofer Str. 1 with ObjectID 5e3be04cba687e77141ce30a\n",
      "Created Lindenstr. 21 with ObjectID 5e3be04cba687e77141ce30b\n",
      "Created Demminer Str. 49 with ObjectID 5e3be04cba687e77141ce30c\n",
      "Created Berliner Str. 35 with ObjectID 5e3be04cba687e77141ce30d\n",
      "Created Strelitzer Str. 38 with ObjectID 5e3be04cba687e77141ce30e\n",
      "Created Kaltenkirchener Siedlung 3 with ObjectID 5e3be04cba687e77141ce30f\n",
      "Created Lenzener Str. 61 with ObjectID 5e3be04cba687e77141ce310\n",
      "Created Bentwischer Weg 56 with ObjectID 5e3be04cba687e77141ce311\n",
      "Created Rostocker Str. 11 with ObjectID 5e3be04cba687e77141ce312\n",
      "Created Neubrandenburger Str. 16a with ObjectID 5e3be04cba687e77141ce313\n",
      "Created Pasewalker Str. 6 with ObjectID 5e3be04cba687e77141ce314\n",
      "Created Quetziner Str. 19a with ObjectID 5e3be04cba687e77141ce315\n",
      "Created Fritz-Reuter-Str. 16 with ObjectID 5e3be04cba687e77141ce316\n",
      "Created Werderstr. 21b with ObjectID 5e3be04cba687e77141ce317\n",
      "Created Chausseestr. 4c with ObjectID 5e3be04cba687e77141ce318\n",
      "Created Stavenhagener Str. 11 with ObjectID 5e3be04cba687e77141ce319\n",
      "Created Schweriner Chaussee 27 with ObjectID 5e3be04cba687e77141ce31a\n",
      "Created Ludwigsluster Chaussee 30 with ObjectID 5e3be04cba687e77141ce31b\n",
      "Created Plauer Chaussee 5 with ObjectID 5e3be04cba687e77141ce31c\n",
      "Created Pasewalker Allee 84 with ObjectID 5e3be04cba687e77141ce31d\n",
      "Created Bahnhofstr. 14 with ObjectID 5e3be04cba687e77141ce31e\n",
      "Created Neu Karstädter Weg 13 with ObjectID 5e3be04cba687e77141ce31f\n",
      "Created Treptower Str. 1 with ObjectID 5e3be04cba687e77141ce320\n",
      "Created Ludwigsluster Str. 2 with ObjectID 5e3be04cba687e77141ce321\n",
      "Created Greifswalder Str. 1 with ObjectID 5e3be04cba687e77141ce322\n",
      "Created Platz der Freundschaft 14 with ObjectID 5e3be04cba687e77141ce323\n",
      "Created Rostocker Chaussee 3 with ObjectID 5e3be04cba687e77141ce324\n",
      "Created Weinbergstr. 14 with ObjectID 5e3be04cba687e77141ce325\n",
      "Created Ahlbecker Chaussee 9 with ObjectID 5e3be04cba687e77141ce326\n",
      "Created Tessiner Str. 1 with ObjectID 5e3be04cba687e77141ce327\n",
      "Created Chausseestr. 17 with ObjectID 5e3be04cba687e77141ce328\n",
      "Created Hasenwinkel 36 with ObjectID 5e3be04cba687e77141ce329\n",
      "Created Gützkower Landstr. 12 with ObjectID 5e3be04cba687e77141ce32a\n",
      "Created Bahnhofstr. 23/25 with ObjectID 5e3be04cba687e77141ce32b\n",
      "Created Anklamer Str. 30 with ObjectID 5e3be04cba687e77141ce32c\n",
      "Created Salzhorstweg 9b with ObjectID 5e3be04cba687e77141ce32d\n",
      "Created An der Crivitzer Chaussee 16 with ObjectID 5e3be04cba687e77141ce32e\n",
      "Created Grüner Weg 1 with ObjectID 5e3be04cba687e77141ce32f\n",
      "Created Schweriner Str. 3b with ObjectID 5e3be04cba687e77141ce330\n",
      "Created Stralsunder Str. 8 with ObjectID 5e3be04cba687e77141ce331\n",
      "Created Sülzer Chaussee 15a with ObjectID 5e3be04cba687e77141ce332\n",
      "Created Doberaner Str. 30c with ObjectID 5e3be04cba687e77141ce333\n",
      "Created Grüne Str. 23 with ObjectID 5e3be04cba687e77141ce334\n",
      "Created Bützower Str. 2-4 with ObjectID 5e3be04cba687e77141ce335\n",
      "Created Lübecker Str. 225 with ObjectID 5e3be04cba687e77141ce336\n",
      "Created Greifswalder Str. 1 with ObjectID 5e3be04cba687e77141ce337\n",
      "Created Am Erlenhain 2 with ObjectID 5e3be04cba687e77141ce338\n",
      "Created Wölzower Weg 1 with ObjectID 5e3be04cba687e77141ce339\n",
      "Created Neubrandenburger Str. 10-11 with ObjectID 5e3be04cba687e77141ce33a\n",
      "Created Satower Str. 7 with ObjectID 5e3be04cba687e77141ce33b\n",
      "Created Gaffelschoner Weg 15 with ObjectID 5e3be04cba687e77141ce33c\n",
      "Created Doberaner Str. 144 with ObjectID 5e3be04cba687e77141ce33d\n",
      "Created Hinrichsdorfer Str. 13a with ObjectID 5e3be04cba687e77141ce33e\n",
      "Created Tschaikowskistr. 39 with ObjectID 5e3be04cba687e77141ce33f\n",
      "Created Swienskuhlenstr. 6 with ObjectID 5e3be04cba687e77141ce340\n",
      "Created Am Fischereihafen 3 with ObjectID 5e3be04cba687e77141ce341\n",
      "Created Feldstr. 1 with ObjectID 5e3be04cba687e77141ce342\n",
      "Created Maxim-Gorki-Str. 66/67 with ObjectID 5e3be04cba687e77141ce343\n",
      "Created Stephan-Jantzen-Ring 50a with ObjectID 5e3be04cba687e77141ce344\n",
      "Created Am Langendorfer Berg 1 with ObjectID 5e3be04cba687e77141ce345\n",
      "Created Schiffbauerring 1 with ObjectID 5e3be04cba687e77141ce346\n",
      "Created Warnowallee 20a with ObjectID 5e3be04cba687e77141ce347\n",
      "Created Am Bahnhof 1 with ObjectID 5e3be04cba687e77141ce348\n",
      "Created Ratzeburger Chaussee 25 with ObjectID 5e3be04cba687e77141ce349\n",
      "Created Güstrower Str. 8 with ObjectID 5e3be04cba687e77141ce34a\n",
      "Created Heinrich-von-Stephan-Str. 6 with ObjectID 5e3be04cba687e77141ce34b\n",
      "Created Rostocker Str. 2-4 with ObjectID 5e3be04cba687e77141ce34c\n",
      "Created Schulstr. 9 with ObjectID 5e3be04cba687e77141ce34d\n",
      "Created Am Keesboom 4 with ObjectID 5e3be04cba687e77141ce34e\n",
      "Created Göhrener Chaussee 1a with ObjectID 5e3be04cba687e77141ce34f\n",
      "Created Proraer Chaussee 3 with ObjectID 5e3be04cba687e77141ce350\n",
      "Created Am Mastweg 1 with ObjectID 5e3be04cba687e77141ce351\n",
      "Created Gletzower Str. 29 with ObjectID 5e3be04cba687e77141ce352\n",
      "Created Gingster Chaussee 7 with ObjectID 5e3be04cba687e77141ce353\n",
      "Created Hermannstr. 24 with ObjectID 5e3be04cba687e77141ce354\n",
      "Created Ernst-Thälmann-Str. 41e with ObjectID 5e3be04cba687e77141ce355\n",
      "Created Am Lanckener Gutshof 38 with ObjectID 5e3be04cba687e77141ce356\n",
      "Created Glower Str. 31 with ObjectID 5e3be04cba687e77141ce357\n"
     ]
    }
   ],
   "source": [
    "for shop in shops:\n",
    "    result = db.shops.insert_one(shops[shop])\n",
    "    print(f\"Created {shops[shop]['address']} with ObjectID {result.inserted_id}\")"
   ]
  },
  {
   "cell_type": "markdown",
   "metadata": {},
   "source": [
    "#### insert_many"
   ]
  },
  {
   "cell_type": "code",
   "execution_count": null,
   "metadata": {},
   "outputs": [],
   "source": [
    "result = db.shopsmany.insert_many([shops[shop] for shop in shops])\n",
    "print(f\"Created {len(result.inserted_ids)}\")"
   ]
  },
  {
   "cell_type": "markdown",
   "metadata": {},
   "source": [
    "can't do that again because every shop in shops received an ObjectID from mongodb on insert, that would raise a duplicate key error"
   ]
  },
  {
   "cell_type": "code",
   "execution_count": 111,
   "metadata": {},
   "outputs": [
    {
     "name": "stdout",
     "output_type": "stream",
     "text": [
      "{'_id': ObjectId('5e3be5b9ba687e77141ce831'),\n",
      " 'address': 'Choriner Str. 64/64a',\n",
      " 'city': 'Berlin',\n",
      " 'district': 'Mitte',\n",
      " 'shop': 'lidl',\n",
      " 'zip': '10435'}\n"
     ]
    }
   ],
   "source": [
    "pprint(shops[1])"
   ]
  },
  {
   "cell_type": "code",
   "execution_count": null,
   "metadata": {},
   "outputs": [],
   "source": [
    "result = db.shopsmany.insert_many([shops[shop] for shop in shops])\n",
    "print(f\"Created {len(result.inserted_ids)}\")"
   ]
  },
  {
   "cell_type": "markdown",
   "metadata": {},
   "source": [
    "## QUERY / filter"
   ]
  },
  {
   "cell_type": "markdown",
   "metadata": {},
   "source": [
    "#### get one\n",
    "by column"
   ]
  },
  {
   "cell_type": "code",
   "execution_count": 86,
   "metadata": {},
   "outputs": [
    {
     "data": {
      "text/plain": [
       "{'_id': ObjectId('5e3be04cba687e77141ce276'),\n",
       " 'shop': 'lidl',\n",
       " 'address': 'Steglitzer Damm 95',\n",
       " 'zip': '12169',\n",
       " 'city': 'Berlin',\n",
       " 'district': 'Steglitz'}"
      ]
     },
     "execution_count": 86,
     "metadata": {},
     "output_type": "execute_result"
    }
   ],
   "source": [
    "result = db.shops.find_one({\"zip\": \"12169\"})\n",
    "result"
   ]
  },
  {
   "cell_type": "markdown",
   "metadata": {},
   "source": [
    "filter columns, if omitted, all fields will be included"
   ]
  },
  {
   "cell_type": "code",
   "execution_count": 118,
   "metadata": {},
   "outputs": [
    {
     "data": {
      "text/plain": [
       "{'address': 'Steglitzer Damm 95', 'zip': '12169'}"
      ]
     },
     "execution_count": 118,
     "metadata": {},
     "output_type": "execute_result"
    }
   ],
   "source": [
    "result = db.shops.find_one({\"zip\": \"12169\"}, {\"_id\": 0, \"address\": 1, \"zip\": 1})\n",
    "result"
   ]
  },
  {
   "cell_type": "markdown",
   "metadata": {
    "toc-hr-collapsed": false
   },
   "source": [
    "#### get many"
   ]
  },
  {
   "cell_type": "code",
   "execution_count": 69,
   "metadata": {},
   "outputs": [
    {
     "name": "stdout",
     "output_type": "stream",
     "text": [
      "{'_id': ObjectId('5e3be04cba687e77141ce276'), 'shop': 'lidl', 'address': 'Steglitzer Damm 95', 'zip': '12169', 'city': 'Berlin', 'district': 'Steglitz'}\n",
      "{'_id': ObjectId('5e3be04cba687e77141ce277'), 'shop': 'lidl', 'address': 'Bergstr. 86', 'zip': '12169', 'city': 'Berlin', 'district': 'Steglitz'}\n"
     ]
    }
   ],
   "source": [
    "results = db.shops.find({\"zip\": \"12169\"})\n",
    "for x in results:\n",
    "    print(x)"
   ]
  },
  {
   "cell_type": "markdown",
   "metadata": {},
   "source": [
    "#### AND"
   ]
  },
  {
   "cell_type": "code",
   "execution_count": 130,
   "metadata": {},
   "outputs": [
    {
     "data": {
      "text/plain": [
       "[{'_id': ObjectId('5e3be04cba687e77141ce223'),\n",
       "  'shop': 'lidl',\n",
       "  'address': 'Choriner Str. 64/64a',\n",
       "  'zip': '10435',\n",
       "  'city': 'Berlin',\n",
       "  'district': 'Mitte'}]"
      ]
     },
     "execution_count": 130,
     "metadata": {},
     "output_type": "execute_result"
    }
   ],
   "source": [
    "query = {\"district\": \"Mitte\", \"zip\": \"10435\"}\n",
    "\n",
    "results = db.shops.find(query)\n",
    "list(results)[:2]"
   ]
  },
  {
   "cell_type": "markdown",
   "metadata": {},
   "source": [
    "#### OR\n",
    "\n",
    "{ \"$or\": [{query}, {query}, [...] }"
   ]
  },
  {
   "cell_type": "code",
   "execution_count": 134,
   "metadata": {},
   "outputs": [
    {
     "data": {
      "text/plain": [
       "[{'_id': ObjectId('5e3be04cba687e77141ce23b'),\n",
       "  'shop': 'lidl',\n",
       "  'address': 'Reinickendorfer Str. 41',\n",
       "  'zip': '13347',\n",
       "  'city': 'Berlin',\n",
       "  'district': 'Wedding'},\n",
       " {'_id': ObjectId('5e3be04cba687e77141ce24a'),\n",
       "  'shop': 'lidl',\n",
       "  'address': 'Müllerstr. 48/48a',\n",
       "  'zip': '13349',\n",
       "  'city': 'Berlin',\n",
       "  'district': 'Wedding'},\n",
       " {'_id': ObjectId('5e3be04cba687e77141ce276'),\n",
       "  'shop': 'lidl',\n",
       "  'address': 'Steglitzer Damm 95',\n",
       "  'zip': '12169',\n",
       "  'city': 'Berlin',\n",
       "  'district': 'Steglitz'}]"
      ]
     },
     "execution_count": 134,
     "metadata": {},
     "output_type": "execute_result"
    }
   ],
   "source": [
    "query = { \"$or\": [\n",
    "    {\"district\": \"Wedding\"},\n",
    "    {\"zip\": \"12169\"}\n",
    "    ]\n",
    "        }\n",
    "\n",
    "results = db.shops.find(query)\n",
    "list(results)"
   ]
  },
  {
   "cell_type": "markdown",
   "metadata": {},
   "source": [
    "#### AND  as well as OR"
   ]
  },
  {
   "cell_type": "code",
   "execution_count": 144,
   "metadata": {},
   "outputs": [
    {
     "data": {
      "text/plain": [
       "[{'_id': ObjectId('5e3be04cba687e77141ce23b'),\n",
       "  'shop': 'lidl',\n",
       "  'address': 'Reinickendorfer Str. 41',\n",
       "  'zip': '13347',\n",
       "  'city': 'Berlin',\n",
       "  'district': 'Wedding'},\n",
       " {'_id': ObjectId('5e3be04cba687e77141ce24a'),\n",
       "  'shop': 'lidl',\n",
       "  'address': 'Müllerstr. 48/48a',\n",
       "  'zip': '13349',\n",
       "  'city': 'Berlin',\n",
       "  'district': 'Wedding'},\n",
       " {'_id': ObjectId('5e3be04cba687e77141ce276'),\n",
       "  'shop': 'lidl',\n",
       "  'address': 'Steglitzer Damm 95',\n",
       "  'zip': '12169',\n",
       "  'city': 'Berlin',\n",
       "  'district': 'Steglitz'},\n",
       " {'_id': ObjectId('5e3be04cba687e77141ce279'),\n",
       "  'shop': 'lidl',\n",
       "  'address': 'Rothenburgstr. 38a',\n",
       "  'zip': '12163',\n",
       "  'city': 'Berlin',\n",
       "  'district': 'Steglitz'}]"
      ]
     },
     "execution_count": 144,
     "metadata": {},
     "output_type": "execute_result"
    }
   ],
   "source": [
    "query = { \"city\": \"Berlin\",\n",
    "         \"$or\": [\n",
    "    {\"district\": \"Steglitz\"},\n",
    "    {\"district\": \"Wedding\"}\n",
    "    ]\n",
    "        }\n",
    "\n",
    "results = db.shops.find(query)\n",
    "list(results)"
   ]
  },
  {
   "cell_type": "markdown",
   "metadata": {},
   "source": [
    "#### regex"
   ]
  },
  {
   "cell_type": "code",
   "execution_count": 152,
   "metadata": {},
   "outputs": [
    {
     "data": {
      "text/plain": [
       "[{'_id': ObjectId('5e3be04cba687e77141ce2d6'),\n",
       "  'shop': 'lidl',\n",
       "  'address': 'Berliner Str. 38+40+42',\n",
       "  'zip': '14641',\n",
       "  'city': 'Nauen',\n",
       "  'district': ''},\n",
       " {'_id': ObjectId('5e3be04cba687e77141ce2eb'),\n",
       "  'shop': 'lidl',\n",
       "  'address': 'Wulkower Chaussee 5',\n",
       "  'zip': '16827',\n",
       "  'city': 'Neuruppin',\n",
       "  'district': ''},\n",
       " {'_id': ObjectId('5e3be04cba687e77141ce2ec'),\n",
       "  'shop': 'lidl',\n",
       "  'address': 'Neustädter Str. 53',\n",
       "  'zip': '16816',\n",
       "  'city': 'Neuruppin',\n",
       "  'district': ''}]"
      ]
     },
     "execution_count": 152,
     "metadata": {},
     "output_type": "execute_result"
    }
   ],
   "source": [
    "results = db.shops.find({\"city\": {\"$regex\": \"^N\"}})\n",
    "list(results)[:3]"
   ]
  },
  {
   "cell_type": "markdown",
   "metadata": {},
   "source": [
    "#### IN\n",
    "{\"$in\": [array]}"
   ]
  },
  {
   "cell_type": "code",
   "execution_count": 128,
   "metadata": {},
   "outputs": [
    {
     "data": {
      "text/plain": [
       "[{'_id': ObjectId('5e3be04cba687e77141ce222'),\n",
       "  'shop': 'lidl',\n",
       "  'address': 'Leipziger Str. 42',\n",
       "  'zip': '10117',\n",
       "  'city': 'Berlin',\n",
       "  'district': 'Mitte'},\n",
       " {'_id': ObjectId('5e3be04cba687e77141ce223'),\n",
       "  'shop': 'lidl',\n",
       "  'address': 'Choriner Str. 64/64a',\n",
       "  'zip': '10435',\n",
       "  'city': 'Berlin',\n",
       "  'district': 'Mitte'}]"
      ]
     },
     "execution_count": 128,
     "metadata": {},
     "output_type": "execute_result"
    }
   ],
   "source": [
    "query = {\"district\": {\"$in\": [\"Mitte\", \"Prenzlauer Berg\"]}}\n",
    "\n",
    "result = db.shops.find(query)\n",
    "list(result)[:2]"
   ]
  },
  {
   "cell_type": "markdown",
   "metadata": {},
   "source": [
    "#### SORT results"
   ]
  },
  {
   "cell_type": "code",
   "execution_count": 155,
   "metadata": {},
   "outputs": [
    {
     "data": {
      "text/plain": [
       "[{'_id': ObjectId('5e3be04cba687e77141ce222'),\n",
       "  'shop': 'lidl',\n",
       "  'address': 'Leipziger Str. 42',\n",
       "  'zip': '10117',\n",
       "  'city': 'Berlin',\n",
       "  'district': 'Mitte'},\n",
       " {'_id': ObjectId('5e3be04cba687e77141ce227'),\n",
       "  'shop': 'lidl',\n",
       "  'address': 'Luisenstr. 52',\n",
       "  'zip': '10117',\n",
       "  'city': 'Berlin',\n",
       "  'district': 'Mitte'},\n",
       " {'_id': ObjectId('5e3be04cba687e77141ce224'),\n",
       "  'shop': 'lidl',\n",
       "  'address': 'Heinrich-Heine-Str. 30',\n",
       "  'zip': '10179',\n",
       "  'city': 'Berlin',\n",
       "  'district': 'Mitte'}]"
      ]
     },
     "execution_count": 155,
     "metadata": {},
     "output_type": "execute_result"
    }
   ],
   "source": [
    "query = {\"district\": \"Mitte\"}\n",
    "\n",
    "results = db.shops.find(query).sort(\"zip\", 1)\n",
    "list(results)[:3]"
   ]
  },
  {
   "cell_type": "markdown",
   "metadata": {},
   "source": [
    "#### count"
   ]
  },
  {
   "cell_type": "code",
   "execution_count": 198,
   "metadata": {},
   "outputs": [
    {
     "data": {
      "text/plain": [
       "4"
      ]
     },
     "execution_count": 198,
     "metadata": {},
     "output_type": "execute_result"
    }
   ],
   "source": [
    "query = {\"district\": \"Mitte\"}\n",
    "\n",
    "count = db.shops.count_documents(query)\n",
    "count"
   ]
  },
  {
   "cell_type": "markdown",
   "metadata": {},
   "source": [
    "#### limit"
   ]
  },
  {
   "cell_type": "code",
   "execution_count": 187,
   "metadata": {},
   "outputs": [
    {
     "data": {
      "text/plain": [
       "[{'_id': ObjectId('5e3be04cba687e77141ce222'),\n",
       "  'shop': 'lidl',\n",
       "  'address': 'Leipziger Str. 42',\n",
       "  'zip': '10117',\n",
       "  'city': 'Berlin',\n",
       "  'district': 'Mitte',\n",
       "  'closed': 0}]"
      ]
     },
     "execution_count": 187,
     "metadata": {},
     "output_type": "execute_result"
    }
   ],
   "source": [
    "results = db.shops.find().limit(1)\n",
    "list(results)"
   ]
  },
  {
   "cell_type": "markdown",
   "metadata": {},
   "source": [
    "#### aggregations"
   ]
  },
  {
   "cell_type": "markdown",
   "metadata": {},
   "source": [
    "if sorting is of importance, we have to use bson.son.SON or collections.OrderedDict to maintain order"
   ]
  },
  {
   "cell_type": "code",
   "execution_count": 23,
   "metadata": {},
   "outputs": [
    {
     "data": {
      "text/plain": [
       "[{'_id': '', 'count': 167},\n",
       " {'_id': 'Kreuzberg', 'count': 7},\n",
       " {'_id': 'Charlottenburg', 'count': 6},\n",
       " {'_id': 'Prenzlauer Berg', 'count': 6},\n",
       " {'_id': 'Friedrichshain', 'count': 6},\n",
       " {'_id': 'Marzahn', 'count': 5},\n",
       " {'_id': 'Tempelhof', 'count': 4},\n",
       " {'_id': 'Hellersdorf', 'count': 4},\n",
       " {'_id': 'Mitte', 'count': 4},\n",
       " {'_id': 'Spandau', 'count': 4}]"
      ]
     },
     "execution_count": 23,
     "metadata": {},
     "output_type": "execute_result"
    }
   ],
   "source": [
    "# bson.son\n",
    "pipeline = [\n",
    "    {\"$group\": {\"_id\": \"$district\", \"count\": {\"$sum\": 1}}},\n",
    "    {\"$sort\": SON([(\"count\", -1)])}\n",
    "]\n",
    "\n",
    "results = db.shops.aggregate(pipeline)\n",
    "list(results)[:10]"
   ]
  },
  {
   "cell_type": "code",
   "execution_count": 24,
   "metadata": {},
   "outputs": [
    {
     "data": {
      "text/plain": [
       "[{'_id': '', 'count': 167},\n",
       " {'_id': 'Kreuzberg', 'count': 7},\n",
       " {'_id': 'Charlottenburg', 'count': 6},\n",
       " {'_id': 'Prenzlauer Berg', 'count': 6},\n",
       " {'_id': 'Friedrichshain', 'count': 6},\n",
       " {'_id': 'Marzahn', 'count': 5},\n",
       " {'_id': 'Tempelhof', 'count': 4},\n",
       " {'_id': 'Mitte', 'count': 4},\n",
       " {'_id': 'Hellersdorf', 'count': 4},\n",
       " {'_id': 'Reinickendorf', 'count': 4}]"
      ]
     },
     "execution_count": 24,
     "metadata": {},
     "output_type": "execute_result"
    }
   ],
   "source": [
    "# collections.OrderedDict\n",
    "\n",
    "pipeline = [\n",
    "    {\"$group\": {\"_id\": \"$district\", \"count\": {\"$sum\": 1}}},\n",
    "    {\"$sort\": OrderedDict([(\"count\", -1)])}\n",
    "]\n",
    "\n",
    "results = db.shops.aggregate(pipeline)\n",
    "list(results)[:10]"
   ]
  },
  {
   "cell_type": "markdown",
   "metadata": {},
   "source": [
    "#### explain like i'm SQL"
   ]
  },
  {
   "cell_type": "code",
   "execution_count": null,
   "metadata": {},
   "outputs": [],
   "source": [
    "db.command('aggregate', 'shops', pipeline=pipeline, explain=True)"
   ]
  },
  {
   "cell_type": "markdown",
   "metadata": {},
   "source": [
    "## CURSOR"
   ]
  },
  {
   "cell_type": "code",
   "execution_count": 191,
   "metadata": {},
   "outputs": [
    {
     "name": "stdout",
     "output_type": "stream",
     "text": [
      "{'_id': ObjectId('5e3be04cba687e77141ce222'), 'shop': 'lidl', 'address': 'Leipziger Str. 42', 'zip': '10117', 'city': 'Berlin', 'district': 'Mitte', 'closed': 0}\n",
      "{'_id': ObjectId('5e3be04cba687e77141ce223'), 'shop': 'lidl', 'address': 'Choriner Str. 64/64a', 'zip': '10435', 'city': 'Berlin', 'district': 'Mitte', 'closed': 0}\n",
      "{'_id': ObjectId('5e3be04cba687e77141ce224'), 'shop': 'lidl', 'address': 'Heinrich-Heine-Str. 30', 'zip': '10179', 'city': 'Berlin', 'district': 'Mitte', 'closed': 0}\n",
      "{'_id': ObjectId('5e3be04cba687e77141ce222'), 'shop': 'lidl', 'address': 'Leipziger Str. 42', 'zip': '10117', 'city': 'Berlin', 'district': 'Mitte', 'closed': 0}\n",
      "{'_id': ObjectId('5e3be04cba687e77141ce223'), 'shop': 'lidl', 'address': 'Choriner Str. 64/64a', 'zip': '10435', 'city': 'Berlin', 'district': 'Mitte', 'closed': 0}\n",
      "{'_id': ObjectId('5e3be04cba687e77141ce224'), 'shop': 'lidl', 'address': 'Heinrich-Heine-Str. 30', 'zip': '10179', 'city': 'Berlin', 'district': 'Mitte', 'closed': 0}\n",
      "[{'_id': ObjectId('5e3be04cba687e77141ce225'), 'shop': 'lidl', 'address': 'Friedenstr. 94 a', 'zip': '10249', 'city': 'Berlin', 'district': 'Friedrichshain', 'closed': 0}, {'_id': ObjectId('5e3be04cba687e77141ce226'), 'shop': 'lidl', 'address': 'Charlottenstr. 2', 'zip': '10969', 'city': 'Berlin', 'district': 'Kreuzberg', 'closed': 0}]\n"
     ]
    }
   ],
   "source": [
    "markets = db.shops.find()\n",
    "\n",
    "print(markets.next())\n",
    "print(markets.next())\n",
    "print(markets.next())\n",
    "\n",
    "markets.rewind()\n",
    "\n",
    "print(markets.next())\n",
    "print(markets.next())\n",
    "print(markets.next())    \n",
    "\n",
    "print(list(markets)[:2])"
   ]
  },
  {
   "cell_type": "markdown",
   "metadata": {},
   "source": [
    "## UPDATE"
   ]
  },
  {
   "cell_type": "markdown",
   "metadata": {},
   "source": [
    "### update one"
   ]
  },
  {
   "cell_type": "code",
   "execution_count": 174,
   "metadata": {},
   "outputs": [
    {
     "data": {
      "text/plain": [
       "{'_id': ObjectId('5e3be04cba687e77141ce276'),\n",
       " 'shop': 'lidl',\n",
       " 'address': 'Steglitzer Damm 95',\n",
       " 'zip': '12169',\n",
       " 'city': 'Berlin',\n",
       " 'district': 'Steglitz'}"
      ]
     },
     "execution_count": 174,
     "metadata": {},
     "output_type": "execute_result"
    }
   ],
   "source": [
    "query = {\"zip\": \"12169\"}\n",
    "\n",
    "result = db.shops.find_one(query)\n",
    "result"
   ]
  },
  {
   "cell_type": "code",
   "execution_count": 181,
   "metadata": {},
   "outputs": [
    {
     "data": {
      "text/plain": [
       "<pymongo.results.UpdateResult at 0x11d5b26e0>"
      ]
     },
     "execution_count": 181,
     "metadata": {},
     "output_type": "execute_result"
    }
   ],
   "source": [
    "query = {\"_id\": ObjectId(\"5e3be04cba687e77141ce276\")}\n",
    "values = {\"$set\": {\"closed\": 1}}\n",
    "\n",
    "db.shops.update_one(query, values)"
   ]
  },
  {
   "cell_type": "code",
   "execution_count": 182,
   "metadata": {},
   "outputs": [
    {
     "data": {
      "text/plain": [
       "{'_id': ObjectId('5e3be04cba687e77141ce276'),\n",
       " 'shop': 'lidl',\n",
       " 'address': 'Steglitzer Damm 95',\n",
       " 'zip': '12169',\n",
       " 'city': 'Berlin',\n",
       " 'district': 'Steglitz',\n",
       " 'closed': 1}"
      ]
     },
     "execution_count": 182,
     "metadata": {},
     "output_type": "execute_result"
    }
   ],
   "source": [
    "query = {\"zip\": \"12169\"}\n",
    "result = db.shops.find_one(query)\n",
    "result"
   ]
  },
  {
   "cell_type": "markdown",
   "metadata": {},
   "source": [
    "### update many"
   ]
  },
  {
   "cell_type": "code",
   "execution_count": 180,
   "metadata": {},
   "outputs": [
    {
     "data": {
      "text/plain": [
       "308"
      ]
     },
     "execution_count": 180,
     "metadata": {},
     "output_type": "execute_result"
    }
   ],
   "source": [
    "values = {\"$set\": {\"closed\": 0}}\n",
    "\n",
    "results = db.shops.update_many({}, values)\n",
    "results.modified_count"
   ]
  },
  {
   "cell_type": "code",
   "execution_count": 185,
   "metadata": {},
   "outputs": [
    {
     "data": {
      "text/plain": [
       "[{'_id': ObjectId('5e3be04cba687e77141ce222'),\n",
       "  'shop': 'lidl',\n",
       "  'address': 'Leipziger Str. 42',\n",
       "  'zip': '10117',\n",
       "  'city': 'Berlin',\n",
       "  'district': 'Mitte',\n",
       "  'closed': 0},\n",
       " {'_id': ObjectId('5e3be04cba687e77141ce223'),\n",
       "  'shop': 'lidl',\n",
       "  'address': 'Choriner Str. 64/64a',\n",
       "  'zip': '10435',\n",
       "  'city': 'Berlin',\n",
       "  'district': 'Mitte',\n",
       "  'closed': 0}]"
      ]
     },
     "execution_count": 185,
     "metadata": {},
     "output_type": "execute_result"
    }
   ],
   "source": [
    "results = db.shops.find()\n",
    "list(results)[:2]"
   ]
  },
  {
   "cell_type": "markdown",
   "metadata": {},
   "source": [
    "## DELETE"
   ]
  },
  {
   "cell_type": "markdown",
   "metadata": {},
   "source": [
    "### delete one"
   ]
  },
  {
   "cell_type": "code",
   "execution_count": 103,
   "metadata": {},
   "outputs": [
    {
     "data": {
      "text/plain": [
       "0"
      ]
     },
     "execution_count": 103,
     "metadata": {},
     "output_type": "execute_result"
    }
   ],
   "source": [
    "query = {\"address\": \"Bergstr. 86\"}\n",
    "\n",
    "result = db.shops.delete_one(query)\n",
    "result.deleted_count"
   ]
  },
  {
   "cell_type": "markdown",
   "metadata": {},
   "source": [
    "### delete many"
   ]
  },
  {
   "cell_type": "code",
   "execution_count": 104,
   "metadata": {},
   "outputs": [
    {
     "data": {
      "text/plain": [
       "310"
      ]
     },
     "execution_count": 104,
     "metadata": {},
     "output_type": "execute_result"
    }
   ],
   "source": [
    "result = db.shopsmany.delete_many({})\n",
    "result.deleted_count"
   ]
  },
  {
   "cell_type": "markdown",
   "metadata": {},
   "source": [
    "### drop collection"
   ]
  },
  {
   "cell_type": "code",
   "execution_count": 156,
   "metadata": {},
   "outputs": [],
   "source": [
    "db.shopsmany.drop()"
   ]
  }
 ],
 "metadata": {
  "kernelspec": {
   "display_name": "Python 3",
   "language": "python",
   "name": "python3"
  },
  "language_info": {
   "codemirror_mode": {
    "name": "ipython",
    "version": 3
   },
   "file_extension": ".py",
   "mimetype": "text/x-python",
   "name": "python",
   "nbconvert_exporter": "python",
   "pygments_lexer": "ipython3",
   "version": "3.7.5"
  }
 },
 "nbformat": 4,
 "nbformat_minor": 4
}
