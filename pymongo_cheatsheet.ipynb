{
 "cells": [
  {
   "cell_type": "code",
   "execution_count": 22,
   "metadata": {},
   "outputs": [],
   "source": [
    "from pymongo import MongoClient\n",
    "from bson.objectid import ObjectId\n",
    "from bson.son import SON\n",
    "from collections import OrderedDict\n",
    "from pprint import pprint\n",
    "import requests\n",
    "import bs4\n",
    "import pandas as pd"
   ]
  },
  {
   "cell_type": "markdown",
   "metadata": {},
   "source": [
    "## setup mongo connection"
   ]
  },
  {
   "cell_type": "code",
   "execution_count": 6,
   "metadata": {},
   "outputs": [],
   "source": [
    "client = MongoClient(\"mongodb://127.0.0.1:27017/\")\n",
    "db = client.shops"
   ]
  },
  {
   "cell_type": "code",
   "execution_count": null,
   "metadata": {},
   "outputs": [],
   "source": [
    "serverstatus = db.command(\"serverStatus\")\n",
    "pprint(serverstatus)"
   ]
  },
  {
   "cell_type": "markdown",
   "metadata": {},
   "source": [
    "### list collections"
   ]
  },
  {
   "cell_type": "code",
   "execution_count": 10,
   "metadata": {},
   "outputs": [
    {
     "data": {
      "text/plain": [
       "['shops']"
      ]
     },
     "execution_count": 10,
     "metadata": {},
     "output_type": "execute_result"
    }
   ],
   "source": [
    "db.list_collection_names()"
   ]
  },
  {
   "cell_type": "code",
   "execution_count": 9,
   "metadata": {},
   "outputs": [
    {
     "data": {
      "text/plain": [
       "{'_id': ObjectId('5e3be04cba687e77141ce276'),\n",
       " 'shop': 'lidl',\n",
       " 'address': 'Steglitzer Damm 95',\n",
       " 'zip': '12169',\n",
       " 'city': 'Berlin',\n",
       " 'district': 'Steglitz',\n",
       " 'closed': 1}"
      ]
     },
     "execution_count": 9,
     "metadata": {},
     "output_type": "execute_result"
    }
   ],
   "source": [
    "db.shops.find_one({\"zip\":\"12169\"})"
   ]
  },
  {
   "cell_type": "markdown",
   "metadata": {},
   "source": [
    "## scrap some data"
   ]
  },
  {
   "cell_type": "code",
   "execution_count": 80,
   "metadata": {},
   "outputs": [],
   "source": [
    "name = \"lidl\"\n",
    "zip_zone = 1\n",
    "url = f\"http://meinprospekt.de/filialen/{name}/{zip_zone}\""
   ]
  },
  {
   "cell_type": "code",
   "execution_count": 81,
   "metadata": {},
   "outputs": [],
   "source": [
    "response = requests.get(url)"
   ]
  },
  {
   "cell_type": "code",
   "execution_count": 82,
   "metadata": {},
   "outputs": [],
   "source": [
    "soup = bs4.BeautifulSoup(response.text, \"html5lib\")"
   ]
  },
  {
   "cell_type": "code",
   "execution_count": 105,
   "metadata": {},
   "outputs": [],
   "source": [
    "shops = {}\n",
    "shopid = 0\n",
    "\n",
    "for row in soup.find_all('a', attrs={'class': 'mp-address'}):\n",
    "    \n",
    "    address = row.find('span', attrs={'itemprop': 'streetAddress'}).text\n",
    "    zipcode = row.find('span', attrs={'itemprop': 'postalCode'}).text\n",
    "    city = row.find('span', attrs={'itemprop': 'addressLocality'}).text.split(\"-\")\n",
    "    \n",
    "    shops[shopid] = {\n",
    "        \"shop\": name,\n",
    "        \"address\": address,\n",
    "        \"zip\": zipcode,\n",
    "        \"city\": city[0],\n",
    "        \"district\": city[1] if len(city) > 1 else \"\"\n",
    "    }\n",
    "    \n",
    "    shopid += 1"
   ]
  },
  {
   "cell_type": "markdown",
   "metadata": {},
   "source": [
    "## INSERT"
   ]
  },
  {
   "cell_type": "markdown",
   "metadata": {},
   "source": [
    "#### insert_one"
   ]
  },
  {
   "cell_type": "code",
   "execution_count": 61,
   "metadata": {
    "collapsed": true,
    "jupyter": {
     "outputs_hidden": true
    }
   },
   "outputs": [
    {
     "name": "stdout",
     "output_type": "stream",
     "text": [
      "Created Leipziger Str. 42 with ObjectID 5e3be04cba687e77141ce222\n",
      "Created Choriner Str. 64/64a with ObjectID 5e3be04cba687e77141ce223\n",
      "Created Heinrich-Heine-Str. 30 with ObjectID 5e3be04cba687e77141ce224\n",
      "Created Friedenstr. 94 a with ObjectID 5e3be04cba687e77141ce225\n",
      "Created Charlottenstr. 2 with ObjectID 5e3be04cba687e77141ce226\n",
      "Created Luisenstr. 52 with ObjectID 5e3be04cba687e77141ce227\n",
      "Created Prenzlauer Allee 44 with ObjectID 5e3be04cba687e77141ce228\n",
      "Created Greifswalder Str. 33a with ObjectID 5e3be04cba687e77141ce229\n",
      "Created Oranienplatz 4 with ObjectID 5e3be04cba687e77141ce22a\n",
      "Created Stresemannstr. 68-78 with ObjectID 5e3be04cba687e77141ce22b\n",
      "Created Kottbusser Str. 16a with ObjectID 5e3be04cba687e77141ce22c\n",
      "Created Zeughofstr. 23A with ObjectID 5e3be04cba687e77141ce22d\n",
      "Created Brunnenstr. 87 with ObjectID 5e3be04cba687e77141ce22e\n",
      "Created Kniprodestr. 26 with ObjectID 5e3be04cba687e77141ce22f\n",
      "Created Prenzlauer Allee 93 with ObjectID 5e3be04cba687e77141ce230\n",
      "Created Warschauer Platz 14 with ObjectID 5e3be04cba687e77141ce231\n",
      "Created Maybachufer 32-33 with ObjectID 5e3be04cba687e77141ce232\n",
      "Created Wisbyer Str. 16 with ObjectID 5e3be04cba687e77141ce233\n",
      "Created Bornholmer Str. 65 with ObjectID 5e3be04cba687e77141ce234\n",
      "Created Badstr. 60 with ObjectID 5e3be04cba687e77141ce235\n",
      "Created Rigaer Str. 36-38 with ObjectID 5e3be04cba687e77141ce236\n",
      "Created Roelckestr. 172 with ObjectID 5e3be04cba687e77141ce237\n",
      "Created Eldenaer Str. 34A with ObjectID 5e3be04cba687e77141ce238\n",
      "Created Kreuzbergstr. 40 with ObjectID 5e3be04cba687e77141ce239\n",
      "Created Quitzowstr. 23 with ObjectID 5e3be04cba687e77141ce23a\n",
      "Created Reinickendorfer Str. 41 with ObjectID 5e3be04cba687e77141ce23b\n",
      "Created Prinzenallee 75 with ObjectID 5e3be04cba687e77141ce23c\n",
      "Created Boxhagener Str. 76-78 with ObjectID 5e3be04cba687e77141ce23d\n",
      "Created Markgrafendamm 25c with ObjectID 5e3be04cba687e77141ce23e\n",
      "Created Kleiststr. 3-6 with ObjectID 5e3be04cba687e77141ce23f\n",
      "Created Potsdamer Str. 203 with ObjectID 5e3be04cba687e77141ce240\n",
      "Created Pistoriusstr. 66-67 with ObjectID 5e3be04cba687e77141ce241\n",
      "Created Dudenstr. 90 with ObjectID 5e3be04cba687e77141ce242\n",
      "Created Flughafenstr. 1 with ObjectID 5e3be04cba687e77141ce243\n",
      "Created Möllendorffstr. 75A with ObjectID 5e3be04cba687e77141ce244\n",
      "Created Berliner Str. 27-28 with ObjectID 5e3be04cba687e77141ce245\n",
      "Created Donaustr. 96 with ObjectID 5e3be04cba687e77141ce246\n",
      "Created Hermannstr. 55 with ObjectID 5e3be04cba687e77141ce247\n",
      "Created Indira-Gandhi-Straße 101 with ObjectID 5e3be04cba687e77141ce248\n",
      "Created Ruschestr. 64-70 with ObjectID 5e3be04cba687e77141ce249\n",
      "Created Müllerstr. 48/48a with ObjectID 5e3be04cba687e77141ce24a\n",
      "Created Provinzstr. 30 with ObjectID 5e3be04cba687e77141ce24b\n",
      "Created Kiefholzstr. 386 with ObjectID 5e3be04cba687e77141ce24c\n",
      "Created Prenzlauer Promenade 65-67 with ObjectID 5e3be04cba687e77141ce24d\n",
      "Created Markstr. 39-42 with ObjectID 5e3be04cba687e77141ce24e\n",
      "Created Hauptstr. 122 with ObjectID 5e3be04cba687e77141ce24f\n",
      "Created Meinekestr. 22 with ObjectID 5e3be04cba687e77141ce250\n",
      "Created Sonnenallee 192 with ObjectID 5e3be04cba687e77141ce251\n",
      "Created Frankfurter Allee 212 with ObjectID 5e3be04cba687e77141ce252\n",
      "Created Grabbeallee 27/29 with ObjectID 5e3be04cba687e77141ce253\n",
      "Created Tempelhofer Damm 130 with ObjectID 5e3be04cba687e77141ce254\n",
      "Created Blankenburger Str. 17a with ObjectID 5e3be04cba687e77141ce255\n",
      "Created Oberlandstr. 17 with ObjectID 5e3be04cba687e77141ce256\n",
      "Created Nuthestr. 5 with ObjectID 5e3be04cba687e77141ce257\n",
      "Created Knesebeckstr. 47/48 with ObjectID 5e3be04cba687e77141ce258\n",
      "Created Lahnstr. 61 with ObjectID 5e3be04cba687e77141ce259\n",
      "Created Berliner Allee 300 with ObjectID 5e3be04cba687e77141ce25a\n",
      "Created Innsbrucker Platz (im U-Bahnhof) with ObjectID 5e3be04cba687e77141ce25b\n",
      "Created Große-Leege-Straße 95 with ObjectID 5e3be04cba687e77141ce25c\n",
      "Created Glasower Str. 42 with ObjectID 5e3be04cba687e77141ce25d\n",
      "Created Einbecker Str. 57 with ObjectID 5e3be04cba687e77141ce25e\n",
      "Created Berliner Str. 26/27 with ObjectID 5e3be04cba687e77141ce25f\n",
      "Created Lise-Meitner-Str. 6 with ObjectID 5e3be04cba687e77141ce260\n",
      "Created Vorarlberger Damm 24 with ObjectID 5e3be04cba687e77141ce261\n",
      "Created Wilmersdorfer Str. 126 with ObjectID 5e3be04cba687e77141ce262\n",
      "Created Tempelhofer Weg 14 with ObjectID 5e3be04cba687e77141ce263\n",
      "Created Manteuffelstr. 24-25 with ObjectID 5e3be04cba687e77141ce264\n",
      "Created Ollenhauerstr. 7 with ObjectID 5e3be04cba687e77141ce265\n",
      "Created Tempelhofer Damm 215-219 with ObjectID 5e3be04cba687e77141ce266\n",
      "Created Malchower Weg 134 with ObjectID 5e3be04cba687e77141ce267\n",
      "Created Gervinusstr. 30 with ObjectID 5e3be04cba687e77141ce268\n",
      "Created Dietzgenstr. 102 with ObjectID 5e3be04cba687e77141ce269\n",
      "Created Seesener Str. 10-13 with ObjectID 5e3be04cba687e77141ce26a\n",
      "Created Späthstr. 162 with ObjectID 5e3be04cba687e77141ce26b\n",
      "Created Sophie-Charlotten-Str. 31 with ObjectID 5e3be04cba687e77141ce26c\n",
      "Created Kiefholzstr. 189 with ObjectID 5e3be04cba687e77141ce26d\n",
      "Created Ontarioseestr. 17 with ObjectID 5e3be04cba687e77141ce26e\n",
      "Created Pasewalker Str. 77 with ObjectID 5e3be04cba687e77141ce26f\n",
      "Created Schlossstr. 1 with ObjectID 5e3be04cba687e77141ce270\n",
      "Created Gehrenseestr. 11 with ObjectID 5e3be04cba687e77141ce271\n",
      "Created Waldstr. 14-21 with ObjectID 5e3be04cba687e77141ce272\n",
      "Created Marzahner Chaussee 189 with ObjectID 5e3be04cba687e77141ce273\n",
      "Created Roedernallee 45-50 with ObjectID 5e3be04cba687e77141ce274\n",
      "Created Fürstenbrunner Weg 14-16 with ObjectID 5e3be04cba687e77141ce275\n",
      "Created Steglitzer Damm 95 with ObjectID 5e3be04cba687e77141ce276\n",
      "Created Bergstr. 86 with ObjectID 5e3be04cba687e77141ce277\n",
      "Created Märkische Allee 140A with ObjectID 5e3be04cba687e77141ce278\n",
      "Created Rothenburgstr. 38a with ObjectID 5e3be04cba687e77141ce279\n",
      "Created Gutschmidtstr. 101 with ObjectID 5e3be04cba687e77141ce27a\n",
      "Created Großbeerenstr. 2 with ObjectID 5e3be04cba687e77141ce27b\n",
      "Created Holzhauser Str. 168.17 with ObjectID 5e3be04cba687e77141ce27c\n",
      "Created Allee der Kosmonauten 141A with ObjectID 5e3be04cba687e77141ce27d\n",
      "Created Kaiser-Wilhelm-Str. 127 with ObjectID 5e3be04cba687e77141ce27e\n",
      "Created Quickborner Str. 66-70 with ObjectID 5e3be04cba687e77141ce27f\n",
      "Created Wilhelminenhofstr. 83-85 with ObjectID 5e3be04cba687e77141ce280\n",
      "Created Birkbuschstr. 54 with ObjectID 5e3be04cba687e77141ce281\n",
      "Created Buckower Damm 194 with ObjectID 5e3be04cba687e77141ce282\n",
      "Created Märkische Allee 276 with ObjectID 5e3be04cba687e77141ce283\n",
      "Created Blankenburger Chaussee 10 with ObjectID 5e3be04cba687e77141ce284\n",
      "Created Hindenburgdamm 94 with ObjectID 5e3be04cba687e77141ce285\n",
      "Created Cecilienstr. 161 with ObjectID 5e3be04cba687e77141ce286\n",
      "Created Lipschitzallee 50 with ObjectID 5e3be04cba687e77141ce287\n",
      "Created Kaiser-Wilhelm-Str. 6 with ObjectID 5e3be04cba687e77141ce288\n",
      "Created Charlottenburger Chaussee 18 with ObjectID 5e3be04cba687e77141ce289\n",
      "Created Säntisstr. 49 with ObjectID 5e3be04cba687e77141ce28a\n",
      "Created Neuköllner Str. 236-238 with ObjectID 5e3be04cba687e77141ce28b\n",
      "Created Prötzeler Ring 8 with ObjectID 5e3be04cba687e77141ce28c\n",
      "Created Chemnitzer Str. 174 with ObjectID 5e3be04cba687e77141ce28d\n",
      "Created Warmensteinacher Str. 57 with ObjectID 5e3be04cba687e77141ce28e\n",
      "Created Karolinenstr. 1-2 with ObjectID 5e3be04cba687e77141ce28f\n",
      "Created Malteserstr. 162-164 with ObjectID 5e3be04cba687e77141ce290\n",
      "Created Curtiusstr. 36-38 with ObjectID 5e3be04cba687e77141ce291\n",
      "Created Hüttenweg 50 with ObjectID 5e3be04cba687e77141ce292\n",
      "Created Nonnendammallee 175 with ObjectID 5e3be04cba687e77141ce293\n",
      "Created Berliner Str. 141 with ObjectID 5e3be04cba687e77141ce294\n",
      "Created Havemannstr. 1 with ObjectID 5e3be04cba687e77141ce295\n",
      "Created Feldberger Ring 1 with ObjectID 5e3be04cba687e77141ce296\n",
      "Created Alt-Kaulsdorf 56 with ObjectID 5e3be04cba687e77141ce297\n",
      "Created Gothaer Str. 49 with ObjectID 5e3be04cba687e77141ce298\n",
      "Created Zossener Str. 121 with ObjectID 5e3be04cba687e77141ce299\n",
      "Created Marienfelder Allee 202 with ObjectID 5e3be04cba687e77141ce29a\n",
      "Created Clayallee 278 with ObjectID 5e3be04cba687e77141ce29b\n",
      "Created Wismarer Str. 35 with ObjectID 5e3be04cba687e77141ce29c\n",
      "Created Semmelweisstr. 106 with ObjectID 5e3be04cba687e77141ce29d\n",
      "Created Adlergestell 291 with ObjectID 5e3be04cba687e77141ce29e\n",
      "Created Neuendorfer Str. 30 with ObjectID 5e3be04cba687e77141ce29f\n",
      "Created Mark-Twain-Str. 2 with ObjectID 5e3be04cba687e77141ce2a0\n",
      "Created Lichtenrader Damm 219 with ObjectID 5e3be04cba687e77141ce2a1\n",
      "Created Mühlenstr. 2 with ObjectID 5e3be04cba687e77141ce2a2\n",
      "Created Grünauer Str. 118 with ObjectID 5e3be04cba687e77141ce2a3\n",
      "Created Falkenseer Damm 19 with ObjectID 5e3be04cba687e77141ce2a4\n",
      "Created Seeburger Str. 18 with ObjectID 5e3be04cba687e77141ce2a5\n",
      "Created Wendenschloßstr. 9 with ObjectID 5e3be04cba687e77141ce2a6\n",
      "Created Am Omnibushof 13 with ObjectID 5e3be04cba687e77141ce2a7\n",
      "Created Altglienicker Chaussee 13 with ObjectID 5e3be04cba687e77141ce2a8\n",
      "Created Mahlsdorfer Str. 82 with ObjectID 5e3be04cba687e77141ce2a9\n",
      "Created Teltower Damm 295 with ObjectID 5e3be04cba687e77141ce2aa\n",
      "Created Fürstenwalder Damm 425 with ObjectID 5e3be04cba687e77141ce2ab\n",
      "Created Bruno-Taut-Str. 4 with ObjectID 5e3be04cba687e77141ce2ac\n",
      "Created Ruppiner Chaussee 401 with ObjectID 5e3be04cba687e77141ce2ad\n",
      "Created Birkholzer Str. 1 with ObjectID 5e3be04cba687e77141ce2ae\n",
      "Created Karl-Marx-Str. 38-42 with ObjectID 5e3be04cba687e77141ce2af\n",
      "Created Elbestr. 1 with ObjectID 5e3be04cba687e77141ce2b0\n",
      "Created Seegefelder Weg 391 with ObjectID 5e3be04cba687e77141ce2b1\n",
      "Created Hauptstr. 63 with ObjectID 5e3be04cba687e77141ce2b2\n",
      "Created Berliner Damm 159-161 with ObjectID 5e3be04cba687e77141ce2b3\n",
      "Created Heerstr. 640 with ObjectID 5e3be04cba687e77141ce2b4\n",
      "Created Backofenweg 13 with ObjectID 5e3be04cba687e77141ce2b5\n",
      "Created Kladower Damm 363-365 with ObjectID 5e3be04cba687e77141ce2b6\n",
      "Created Wannseestr. 17 with ObjectID 5e3be04cba687e77141ce2b7\n",
      "Created Rosa-Luxemburg-Platz 1 with ObjectID 5e3be04cba687e77141ce2b8\n",
      "Created An der Anhalter Bahn 4 with ObjectID 5e3be04cba687e77141ce2b9\n",
      "Created Schwanebecker Chaussee 84 with ObjectID 5e3be04cba687e77141ce2ba\n",
      "Created Hauptstr. 100 with ObjectID 5e3be04cba687e77141ce2bb\n",
      "Created Falkenhagener Str. 86 with ObjectID 5e3be04cba687e77141ce2bc\n",
      "Created August-Bebel-Allee 38-44 with ObjectID 5e3be04cba687e77141ce2bd\n",
      "Created Ernst-Thälmann-Str. 28C with ObjectID 5e3be04cba687e77141ce2be\n",
      "Created Wilmsstr. 57 with ObjectID 5e3be04cba687e77141ce2bf\n",
      "Created Poststr. 20 with ObjectID 5e3be04cba687e77141ce2c0\n",
      "Created Großbeerenstr. 265 with ObjectID 5e3be04cba687e77141ce2c1\n",
      "Created August-Bebel-Str. 4-5 with ObjectID 5e3be04cba687e77141ce2c2\n",
      "Created Freienwalder Str. 33 with ObjectID 5e3be04cba687e77141ce2c3\n",
      "Created Zum Kirchsteigfeld 12 with ObjectID 5e3be04cba687e77141ce2c4\n",
      "Created Bernauer Chaussee 70 with ObjectID 5e3be04cba687e77141ce2c5\n",
      "Created Berliner Str. 121 with ObjectID 5e3be04cba687e77141ce2c6\n",
      "Created Dorfaue 33 with ObjectID 5e3be04cba687e77141ce2c7\n",
      "Created Horstweg 98 with ObjectID 5e3be04cba687e77141ce2c8\n",
      "Created Hohenbinder Weg 2 with ObjectID 5e3be04cba687e77141ce2c9\n",
      "Created Am Bahnhof 2 A with ObjectID 5e3be04cba687e77141ce2ca\n",
      "Created Eichenallee 41 with ObjectID 5e3be04cba687e77141ce2cb\n",
      "Created Berliner Str. 49 with ObjectID 5e3be04cba687e77141ce2cc\n",
      "Created Wiesbadener Straße 1 with ObjectID 5e3be04cba687e77141ce2cd\n",
      "Created Wustermarker Allee 16 with ObjectID 5e3be04cba687e77141ce2ce\n",
      "Created Potsdamer Str. 41-42 with ObjectID 5e3be04cba687e77141ce2cf\n",
      "Created Zeppelinstr. 56 with ObjectID 5e3be04cba687e77141ce2d0\n",
      "Created Luckenwalder Str. 68 with ObjectID 5e3be04cba687e77141ce2d1\n",
      "Created Bahnhofstr. 152a with ObjectID 5e3be04cba687e77141ce2d2\n",
      "Created Berliner Str. 93-94 with ObjectID 5e3be04cba687e77141ce2d3\n",
      "Created Stubenrauchstr. 25a with ObjectID 5e3be04cba687e77141ce2d4\n",
      "Created Berliner Tor 3 with ObjectID 5e3be04cba687e77141ce2d5\n",
      "Created Berliner Str. 38+40+42 with ObjectID 5e3be04cba687e77141ce2d6\n",
      "Created Berliner Str. 88 with ObjectID 5e3be04cba687e77141ce2d7\n",
      "Created Ruppiner Str. 57 with ObjectID 5e3be04cba687e77141ce2d8\n",
      "Created Am Elsholz 1 with ObjectID 5e3be04cba687e77141ce2d9\n",
      "Created Nauener Str. 9 with ObjectID 5e3be04cba687e77141ce2da\n",
      "Created Hammerallee 5 with ObjectID 5e3be04cba687e77141ce2db\n",
      "Created Schloßgutsiedlung 1 with ObjectID 5e3be04cba687e77141ce2dc\n",
      "Created Clara-Zetkin-Str. 37 with ObjectID 5e3be04cba687e77141ce2dd\n",
      "Created Heegermühler Str. 1 with ObjectID 5e3be04cba687e77141ce2de\n",
      "Created Freienwalder Str. 30a with ObjectID 5e3be04cba687e77141ce2df\n",
      "Created Schloßstr. 5 with ObjectID 5e3be04cba687e77141ce2e0\n",
      "Created August-Bebel-Str. 65A with ObjectID 5e3be04cba687e77141ce2e1\n",
      "Created Schützenstr. 46 with ObjectID 5e3be04cba687e77141ce2e2\n",
      "Created Ernst-Thälmann-Str. 22 with ObjectID 5e3be04cba687e77141ce2e3\n",
      "Created Emstaler Landstr. 40 with ObjectID 5e3be04cba687e77141ce2e4\n",
      "Created Bahnhofstr. 45 with ObjectID 5e3be04cba687e77141ce2e5\n",
      "Created Altranfter Str. 4-8 with ObjectID 5e3be04cba687e77141ce2e6\n",
      "Created Frankfurter Str. 11 with ObjectID 5e3be04cba687e77141ce2e7\n",
      "Created Berliner Allee 30c with ObjectID 5e3be04cba687e77141ce2e8\n",
      "Created Potsdamer Str. 23 with ObjectID 5e3be04cba687e77141ce2e9\n",
      "Created Upstallstr. 22 with ObjectID 5e3be04cba687e77141ce2ea\n",
      "Created Wulkower Chaussee 5 with ObjectID 5e3be04cba687e77141ce2eb\n",
      "Created Neustädter Str. 53 with ObjectID 5e3be04cba687e77141ce2ec\n",
      "Created Friedrich-Franz-Str. 4 with ObjectID 5e3be04cba687e77141ce2ed\n",
      "Created Vorstadt Neumarkt 5-7 with ObjectID 5e3be04cba687e77141ce2ee\n",
      "Created Diedersdorfer Str. 1 with ObjectID 5e3be04cba687e77141ce2ef\n",
      "Created Prokopiusstr. 6 with ObjectID 5e3be04cba687e77141ce2f0\n",
      "Created Fürstenwalder Str. 9 with ObjectID 5e3be04cba687e77141ce2f1\n",
      "Created Brücker Landstr. 5 with ObjectID 5e3be04cba687e77141ce2f2\n",
      "Created Schwedter Str. 36 with ObjectID 5e3be04cba687e77141ce2f3\n",
      "Created Berliner Chaussee 23 with ObjectID 5e3be04cba687e77141ce2f4\n",
      "Created Bruno-Baum-Ring 11a with ObjectID 5e3be04cba687e77141ce2f5\n",
      "Created Hauptstr. 67 with ObjectID 5e3be04cba687e77141ce2f6\n",
      "Created Berliner Str. 41 with ObjectID 5e3be04cba687e77141ce2f7\n",
      "Created Ernst-Thälmann-Str. 2 with ObjectID 5e3be04cba687e77141ce2f8\n",
      "Created Ihlenweg 2 with ObjectID 5e3be04cba687e77141ce2f9\n",
      "Created Südpromenade 6 with ObjectID 5e3be04cba687e77141ce2fa\n",
      "Created Rathenaustr. 4 with ObjectID 5e3be04cba687e77141ce2fb\n",
      "Created Weinbergweg 36 with ObjectID 5e3be04cba687e77141ce2fc\n",
      "Created Bäckerstr. 1A with ObjectID 5e3be04cba687e77141ce2fd\n",
      "Created Perleberger Str. 55 with ObjectID 5e3be04cba687e77141ce2fe\n",
      "Created Berliner Str. 60f with ObjectID 5e3be04cba687e77141ce2ff\n",
      "Created Luzinweg 4 with ObjectID 5e3be04cba687e77141ce300\n",
      "Created Karl-Marx-Str. 35 with ObjectID 5e3be04cba687e77141ce301\n",
      "Created Stettiner Str. 47 with ObjectID 5e3be04cba687e77141ce302\n",
      "Created Perleberger Str. 42 with ObjectID 5e3be04cba687e77141ce303\n",
      "Created straßeelitzer Str. 2-4 with ObjectID 5e3be04cba687e77141ce304\n",
      "Created Strelitzer Str. 2-4 with ObjectID 5e3be04cba687e77141ce305\n",
      "Created Carl-Stolte-Str. 21 with ObjectID 5e3be04cba687e77141ce306\n",
      "Created Rostocker Str. 3 with ObjectID 5e3be04cba687e77141ce307\n",
      "Created Warener Chaussee 6 with ObjectID 5e3be04cba687e77141ce308\n",
      "Created Jüteritzer Str. 16 with ObjectID 5e3be04cba687e77141ce309\n",
      "Created Kruseshofer Str. 1 with ObjectID 5e3be04cba687e77141ce30a\n",
      "Created Lindenstr. 21 with ObjectID 5e3be04cba687e77141ce30b\n",
      "Created Demminer Str. 49 with ObjectID 5e3be04cba687e77141ce30c\n",
      "Created Berliner Str. 35 with ObjectID 5e3be04cba687e77141ce30d\n",
      "Created Strelitzer Str. 38 with ObjectID 5e3be04cba687e77141ce30e\n",
      "Created Kaltenkirchener Siedlung 3 with ObjectID 5e3be04cba687e77141ce30f\n",
      "Created Lenzener Str. 61 with ObjectID 5e3be04cba687e77141ce310\n",
      "Created Bentwischer Weg 56 with ObjectID 5e3be04cba687e77141ce311\n",
      "Created Rostocker Str. 11 with ObjectID 5e3be04cba687e77141ce312\n",
      "Created Neubrandenburger Str. 16a with ObjectID 5e3be04cba687e77141ce313\n",
      "Created Pasewalker Str. 6 with ObjectID 5e3be04cba687e77141ce314\n",
      "Created Quetziner Str. 19a with ObjectID 5e3be04cba687e77141ce315\n",
      "Created Fritz-Reuter-Str. 16 with ObjectID 5e3be04cba687e77141ce316\n",
      "Created Werderstr. 21b with ObjectID 5e3be04cba687e77141ce317\n",
      "Created Chausseestr. 4c with ObjectID 5e3be04cba687e77141ce318\n",
      "Created Stavenhagener Str. 11 with ObjectID 5e3be04cba687e77141ce319\n",
      "Created Schweriner Chaussee 27 with ObjectID 5e3be04cba687e77141ce31a\n",
      "Created Ludwigsluster Chaussee 30 with ObjectID 5e3be04cba687e77141ce31b\n",
      "Created Plauer Chaussee 5 with ObjectID 5e3be04cba687e77141ce31c\n",
      "Created Pasewalker Allee 84 with ObjectID 5e3be04cba687e77141ce31d\n",
      "Created Bahnhofstr. 14 with ObjectID 5e3be04cba687e77141ce31e\n",
      "Created Neu Karstädter Weg 13 with ObjectID 5e3be04cba687e77141ce31f\n",
      "Created Treptower Str. 1 with ObjectID 5e3be04cba687e77141ce320\n",
      "Created Ludwigsluster Str. 2 with ObjectID 5e3be04cba687e77141ce321\n",
      "Created Greifswalder Str. 1 with ObjectID 5e3be04cba687e77141ce322\n",
      "Created Platz der Freundschaft 14 with ObjectID 5e3be04cba687e77141ce323\n",
      "Created Rostocker Chaussee 3 with ObjectID 5e3be04cba687e77141ce324\n",
      "Created Weinbergstr. 14 with ObjectID 5e3be04cba687e77141ce325\n",
      "Created Ahlbecker Chaussee 9 with ObjectID 5e3be04cba687e77141ce326\n",
      "Created Tessiner Str. 1 with ObjectID 5e3be04cba687e77141ce327\n",
      "Created Chausseestr. 17 with ObjectID 5e3be04cba687e77141ce328\n",
      "Created Hasenwinkel 36 with ObjectID 5e3be04cba687e77141ce329\n",
      "Created Gützkower Landstr. 12 with ObjectID 5e3be04cba687e77141ce32a\n",
      "Created Bahnhofstr. 23/25 with ObjectID 5e3be04cba687e77141ce32b\n",
      "Created Anklamer Str. 30 with ObjectID 5e3be04cba687e77141ce32c\n",
      "Created Salzhorstweg 9b with ObjectID 5e3be04cba687e77141ce32d\n",
      "Created An der Crivitzer Chaussee 16 with ObjectID 5e3be04cba687e77141ce32e\n",
      "Created Grüner Weg 1 with ObjectID 5e3be04cba687e77141ce32f\n",
      "Created Schweriner Str. 3b with ObjectID 5e3be04cba687e77141ce330\n",
      "Created Stralsunder Str. 8 with ObjectID 5e3be04cba687e77141ce331\n",
      "Created Sülzer Chaussee 15a with ObjectID 5e3be04cba687e77141ce332\n",
      "Created Doberaner Str. 30c with ObjectID 5e3be04cba687e77141ce333\n",
      "Created Grüne Str. 23 with ObjectID 5e3be04cba687e77141ce334\n",
      "Created Bützower Str. 2-4 with ObjectID 5e3be04cba687e77141ce335\n",
      "Created Lübecker Str. 225 with ObjectID 5e3be04cba687e77141ce336\n",
      "Created Greifswalder Str. 1 with ObjectID 5e3be04cba687e77141ce337\n",
      "Created Am Erlenhain 2 with ObjectID 5e3be04cba687e77141ce338\n",
      "Created Wölzower Weg 1 with ObjectID 5e3be04cba687e77141ce339\n",
      "Created Neubrandenburger Str. 10-11 with ObjectID 5e3be04cba687e77141ce33a\n",
      "Created Satower Str. 7 with ObjectID 5e3be04cba687e77141ce33b\n",
      "Created Gaffelschoner Weg 15 with ObjectID 5e3be04cba687e77141ce33c\n",
      "Created Doberaner Str. 144 with ObjectID 5e3be04cba687e77141ce33d\n",
      "Created Hinrichsdorfer Str. 13a with ObjectID 5e3be04cba687e77141ce33e\n",
      "Created Tschaikowskistr. 39 with ObjectID 5e3be04cba687e77141ce33f\n",
      "Created Swienskuhlenstr. 6 with ObjectID 5e3be04cba687e77141ce340\n",
      "Created Am Fischereihafen 3 with ObjectID 5e3be04cba687e77141ce341\n",
      "Created Feldstr. 1 with ObjectID 5e3be04cba687e77141ce342\n",
      "Created Maxim-Gorki-Str. 66/67 with ObjectID 5e3be04cba687e77141ce343\n",
      "Created Stephan-Jantzen-Ring 50a with ObjectID 5e3be04cba687e77141ce344\n",
      "Created Am Langendorfer Berg 1 with ObjectID 5e3be04cba687e77141ce345\n",
      "Created Schiffbauerring 1 with ObjectID 5e3be04cba687e77141ce346\n",
      "Created Warnowallee 20a with ObjectID 5e3be04cba687e77141ce347\n",
      "Created Am Bahnhof 1 with ObjectID 5e3be04cba687e77141ce348\n",
      "Created Ratzeburger Chaussee 25 with ObjectID 5e3be04cba687e77141ce349\n",
      "Created Güstrower Str. 8 with ObjectID 5e3be04cba687e77141ce34a\n",
      "Created Heinrich-von-Stephan-Str. 6 with ObjectID 5e3be04cba687e77141ce34b\n",
      "Created Rostocker Str. 2-4 with ObjectID 5e3be04cba687e77141ce34c\n",
      "Created Schulstr. 9 with ObjectID 5e3be04cba687e77141ce34d\n",
      "Created Am Keesboom 4 with ObjectID 5e3be04cba687e77141ce34e\n",
      "Created Göhrener Chaussee 1a with ObjectID 5e3be04cba687e77141ce34f\n",
      "Created Proraer Chaussee 3 with ObjectID 5e3be04cba687e77141ce350\n",
      "Created Am Mastweg 1 with ObjectID 5e3be04cba687e77141ce351\n",
      "Created Gletzower Str. 29 with ObjectID 5e3be04cba687e77141ce352\n",
      "Created Gingster Chaussee 7 with ObjectID 5e3be04cba687e77141ce353\n",
      "Created Hermannstr. 24 with ObjectID 5e3be04cba687e77141ce354\n",
      "Created Ernst-Thälmann-Str. 41e with ObjectID 5e3be04cba687e77141ce355\n",
      "Created Am Lanckener Gutshof 38 with ObjectID 5e3be04cba687e77141ce356\n",
      "Created Glower Str. 31 with ObjectID 5e3be04cba687e77141ce357\n"
     ]
    }
   ],
   "source": [
    "for shop in shops:\n",
    "    result = db.shops.insert_one(shops[shop])\n",
    "    print(f\"Created {shops[shop]['address']} with ObjectID {result.inserted_id}\")"
   ]
  },
  {
   "cell_type": "markdown",
   "metadata": {},
   "source": [
    "#### insert_many"
   ]
  },
  {
   "cell_type": "code",
   "execution_count": null,
   "metadata": {},
   "outputs": [],
   "source": [
    "result = db.shopsmany.insert_many([shops[shop] for shop in shops])\n",
    "print(f\"Created {len(result.inserted_ids)}\")"
   ]
  },
  {
   "cell_type": "markdown",
   "metadata": {},
   "source": [
    "can't do that again because every shop in shops received an ObjectID from mongodb on insert, that would raise a duplicate key error"
   ]
  },
  {
   "cell_type": "code",
   "execution_count": 111,
   "metadata": {},
   "outputs": [
    {
     "name": "stdout",
     "output_type": "stream",
     "text": [
      "{'_id': ObjectId('5e3be5b9ba687e77141ce831'),\n",
      " 'address': 'Choriner Str. 64/64a',\n",
      " 'city': 'Berlin',\n",
      " 'district': 'Mitte',\n",
      " 'shop': 'lidl',\n",
      " 'zip': '10435'}\n"
     ]
    }
   ],
   "source": [
    "pprint(shops[1])"
   ]
  },
  {
   "cell_type": "code",
   "execution_count": null,
   "metadata": {},
   "outputs": [],
   "source": [
    "result = db.shopsmany.insert_many([shops[shop] for shop in shops])\n",
    "print(f\"Created {len(result.inserted_ids)}\")"
   ]
  },
  {
   "cell_type": "markdown",
   "metadata": {},
   "source": [
    "## QUERY / filter"
   ]
  },
  {
   "cell_type": "markdown",
   "metadata": {},
   "source": [
    "#### get one\n",
    "by column"
   ]
  },
  {
   "cell_type": "code",
   "execution_count": 86,
   "metadata": {},
   "outputs": [
    {
     "data": {
      "text/plain": [
       "{'_id': ObjectId('5e3be04cba687e77141ce276'),\n",
       " 'shop': 'lidl',\n",
       " 'address': 'Steglitzer Damm 95',\n",
       " 'zip': '12169',\n",
       " 'city': 'Berlin',\n",
       " 'district': 'Steglitz'}"
      ]
     },
     "execution_count": 86,
     "metadata": {},
     "output_type": "execute_result"
    }
   ],
   "source": [
    "result = db.shops.find_one({\"zip\": \"12169\"})\n",
    "result"
   ]
  },
  {
   "cell_type": "markdown",
   "metadata": {},
   "source": [
    "filter columns, if omitted, all fields will be included"
   ]
  },
  {
   "cell_type": "code",
   "execution_count": 118,
   "metadata": {},
   "outputs": [
    {
     "data": {
      "text/plain": [
       "{'address': 'Steglitzer Damm 95', 'zip': '12169'}"
      ]
     },
     "execution_count": 118,
     "metadata": {},
     "output_type": "execute_result"
    }
   ],
   "source": [
    "result = db.shops.find_one({\"zip\": \"12169\"}, {\"_id\": 0, \"address\": 1, \"zip\": 1})\n",
    "result"
   ]
  },
  {
   "cell_type": "markdown",
   "metadata": {
    "toc-hr-collapsed": false
   },
   "source": [
    "#### get many"
   ]
  },
  {
   "cell_type": "code",
   "execution_count": 69,
   "metadata": {},
   "outputs": [
    {
     "name": "stdout",
     "output_type": "stream",
     "text": [
      "{'_id': ObjectId('5e3be04cba687e77141ce276'), 'shop': 'lidl', 'address': 'Steglitzer Damm 95', 'zip': '12169', 'city': 'Berlin', 'district': 'Steglitz'}\n",
      "{'_id': ObjectId('5e3be04cba687e77141ce277'), 'shop': 'lidl', 'address': 'Bergstr. 86', 'zip': '12169', 'city': 'Berlin', 'district': 'Steglitz'}\n"
     ]
    }
   ],
   "source": [
    "results = db.shops.find({\"zip\": \"12169\"})\n",
    "for x in results:\n",
    "    print(x)"
   ]
  },
  {
   "cell_type": "markdown",
   "metadata": {},
   "source": [
    "#### AND"
   ]
  },
  {
   "cell_type": "code",
   "execution_count": 130,
   "metadata": {},
   "outputs": [
    {
     "data": {
      "text/plain": [
       "[{'_id': ObjectId('5e3be04cba687e77141ce223'),\n",
       "  'shop': 'lidl',\n",
       "  'address': 'Choriner Str. 64/64a',\n",
       "  'zip': '10435',\n",
       "  'city': 'Berlin',\n",
       "  'district': 'Mitte'}]"
      ]
     },
     "execution_count": 130,
     "metadata": {},
     "output_type": "execute_result"
    }
   ],
   "source": [
    "query = {\"district\": \"Mitte\", \"zip\": \"10435\"}\n",
    "\n",
    "results = db.shops.find(query)\n",
    "list(results)[:2]"
   ]
  },
  {
   "cell_type": "markdown",
   "metadata": {},
   "source": [
    "#### OR\n",
    "\n",
    "{ \"$or\": [{query}, {query}, [...] }"
   ]
  },
  {
   "cell_type": "code",
   "execution_count": 134,
   "metadata": {},
   "outputs": [
    {
     "data": {
      "text/plain": [
       "[{'_id': ObjectId('5e3be04cba687e77141ce23b'),\n",
       "  'shop': 'lidl',\n",
       "  'address': 'Reinickendorfer Str. 41',\n",
       "  'zip': '13347',\n",
       "  'city': 'Berlin',\n",
       "  'district': 'Wedding'},\n",
       " {'_id': ObjectId('5e3be04cba687e77141ce24a'),\n",
       "  'shop': 'lidl',\n",
       "  'address': 'Müllerstr. 48/48a',\n",
       "  'zip': '13349',\n",
       "  'city': 'Berlin',\n",
       "  'district': 'Wedding'},\n",
       " {'_id': ObjectId('5e3be04cba687e77141ce276'),\n",
       "  'shop': 'lidl',\n",
       "  'address': 'Steglitzer Damm 95',\n",
       "  'zip': '12169',\n",
       "  'city': 'Berlin',\n",
       "  'district': 'Steglitz'}]"
      ]
     },
     "execution_count": 134,
     "metadata": {},
     "output_type": "execute_result"
    }
   ],
   "source": [
    "query = { \"$or\": [\n",
    "    {\"district\": \"Wedding\"},\n",
    "    {\"zip\": \"12169\"}\n",
    "    ]\n",
    "        }\n",
    "\n",
    "results = db.shops.find(query)\n",
    "list(results)"
   ]
  },
  {
   "cell_type": "markdown",
   "metadata": {},
   "source": [
    "#### AND  as well as OR"
   ]
  },
  {
   "cell_type": "code",
   "execution_count": 144,
   "metadata": {},
   "outputs": [
    {
     "data": {
      "text/plain": [
       "[{'_id': ObjectId('5e3be04cba687e77141ce23b'),\n",
       "  'shop': 'lidl',\n",
       "  'address': 'Reinickendorfer Str. 41',\n",
       "  'zip': '13347',\n",
       "  'city': 'Berlin',\n",
       "  'district': 'Wedding'},\n",
       " {'_id': ObjectId('5e3be04cba687e77141ce24a'),\n",
       "  'shop': 'lidl',\n",
       "  'address': 'Müllerstr. 48/48a',\n",
       "  'zip': '13349',\n",
       "  'city': 'Berlin',\n",
       "  'district': 'Wedding'},\n",
       " {'_id': ObjectId('5e3be04cba687e77141ce276'),\n",
       "  'shop': 'lidl',\n",
       "  'address': 'Steglitzer Damm 95',\n",
       "  'zip': '12169',\n",
       "  'city': 'Berlin',\n",
       "  'district': 'Steglitz'},\n",
       " {'_id': ObjectId('5e3be04cba687e77141ce279'),\n",
       "  'shop': 'lidl',\n",
       "  'address': 'Rothenburgstr. 38a',\n",
       "  'zip': '12163',\n",
       "  'city': 'Berlin',\n",
       "  'district': 'Steglitz'}]"
      ]
     },
     "execution_count": 144,
     "metadata": {},
     "output_type": "execute_result"
    }
   ],
   "source": [
    "query = { \"city\": \"Berlin\",\n",
    "         \"$or\": [\n",
    "    {\"district\": \"Steglitz\"},\n",
    "    {\"district\": \"Wedding\"}\n",
    "    ]\n",
    "        }\n",
    "\n",
    "results = db.shops.find(query)\n",
    "list(results)"
   ]
  },
  {
   "cell_type": "markdown",
   "metadata": {},
   "source": [
    "#### regex"
   ]
  },
  {
   "cell_type": "code",
   "execution_count": 152,
   "metadata": {},
   "outputs": [
    {
     "data": {
      "text/plain": [
       "[{'_id': ObjectId('5e3be04cba687e77141ce2d6'),\n",
       "  'shop': 'lidl',\n",
       "  'address': 'Berliner Str. 38+40+42',\n",
       "  'zip': '14641',\n",
       "  'city': 'Nauen',\n",
       "  'district': ''},\n",
       " {'_id': ObjectId('5e3be04cba687e77141ce2eb'),\n",
       "  'shop': 'lidl',\n",
       "  'address': 'Wulkower Chaussee 5',\n",
       "  'zip': '16827',\n",
       "  'city': 'Neuruppin',\n",
       "  'district': ''},\n",
       " {'_id': ObjectId('5e3be04cba687e77141ce2ec'),\n",
       "  'shop': 'lidl',\n",
       "  'address': 'Neustädter Str. 53',\n",
       "  'zip': '16816',\n",
       "  'city': 'Neuruppin',\n",
       "  'district': ''}]"
      ]
     },
     "execution_count": 152,
     "metadata": {},
     "output_type": "execute_result"
    }
   ],
   "source": [
    "results = db.shops.find({\"city\": {\"$regex\": \"^N\"}})\n",
    "list(results)[:3]"
   ]
  },
  {
   "cell_type": "markdown",
   "metadata": {},
   "source": [
    "#### IN\n",
    "{\"$in\": [array]}"
   ]
  },
  {
   "cell_type": "code",
   "execution_count": 128,
   "metadata": {},
   "outputs": [
    {
     "data": {
      "text/plain": [
       "[{'_id': ObjectId('5e3be04cba687e77141ce222'),\n",
       "  'shop': 'lidl',\n",
       "  'address': 'Leipziger Str. 42',\n",
       "  'zip': '10117',\n",
       "  'city': 'Berlin',\n",
       "  'district': 'Mitte'},\n",
       " {'_id': ObjectId('5e3be04cba687e77141ce223'),\n",
       "  'shop': 'lidl',\n",
       "  'address': 'Choriner Str. 64/64a',\n",
       "  'zip': '10435',\n",
       "  'city': 'Berlin',\n",
       "  'district': 'Mitte'}]"
      ]
     },
     "execution_count": 128,
     "metadata": {},
     "output_type": "execute_result"
    }
   ],
   "source": [
    "query = {\"district\": {\"$in\": [\"Mitte\", \"Prenzlauer Berg\"]}}\n",
    "\n",
    "result = db.shops.find(query)\n",
    "list(result)[:2]"
   ]
  },
  {
   "cell_type": "markdown",
   "metadata": {},
   "source": [
    "#### SORT results"
   ]
  },
  {
   "cell_type": "code",
   "execution_count": 155,
   "metadata": {},
   "outputs": [
    {
     "data": {
      "text/plain": [
       "[{'_id': ObjectId('5e3be04cba687e77141ce222'),\n",
       "  'shop': 'lidl',\n",
       "  'address': 'Leipziger Str. 42',\n",
       "  'zip': '10117',\n",
       "  'city': 'Berlin',\n",
       "  'district': 'Mitte'},\n",
       " {'_id': ObjectId('5e3be04cba687e77141ce227'),\n",
       "  'shop': 'lidl',\n",
       "  'address': 'Luisenstr. 52',\n",
       "  'zip': '10117',\n",
       "  'city': 'Berlin',\n",
       "  'district': 'Mitte'},\n",
       " {'_id': ObjectId('5e3be04cba687e77141ce224'),\n",
       "  'shop': 'lidl',\n",
       "  'address': 'Heinrich-Heine-Str. 30',\n",
       "  'zip': '10179',\n",
       "  'city': 'Berlin',\n",
       "  'district': 'Mitte'}]"
      ]
     },
     "execution_count": 155,
     "metadata": {},
     "output_type": "execute_result"
    }
   ],
   "source": [
    "query = {\"district\": \"Mitte\"}\n",
    "\n",
    "results = db.shops.find(query).sort(\"zip\", 1)\n",
    "list(results)[:3]"
   ]
  },
  {
   "cell_type": "markdown",
   "metadata": {},
   "source": [
    "#### count"
   ]
  },
  {
   "cell_type": "code",
   "execution_count": 198,
   "metadata": {},
   "outputs": [
    {
     "data": {
      "text/plain": [
       "4"
      ]
     },
     "execution_count": 198,
     "metadata": {},
     "output_type": "execute_result"
    }
   ],
   "source": [
    "query = {\"district\": \"Mitte\"}\n",
    "\n",
    "count = db.shops.count_documents(query)\n",
    "count"
   ]
  },
  {
   "cell_type": "markdown",
   "metadata": {},
   "source": [
    "#### limit"
   ]
  },
  {
   "cell_type": "code",
   "execution_count": 187,
   "metadata": {},
   "outputs": [
    {
     "data": {
      "text/plain": [
       "[{'_id': ObjectId('5e3be04cba687e77141ce222'),\n",
       "  'shop': 'lidl',\n",
       "  'address': 'Leipziger Str. 42',\n",
       "  'zip': '10117',\n",
       "  'city': 'Berlin',\n",
       "  'district': 'Mitte',\n",
       "  'closed': 0}]"
      ]
     },
     "execution_count": 187,
     "metadata": {},
     "output_type": "execute_result"
    }
   ],
   "source": [
    "results = db.shops.find().limit(1)\n",
    "list(results)"
   ]
  },
  {
   "cell_type": "markdown",
   "metadata": {},
   "source": [
    "#### aggregations"
   ]
  },
  {
   "cell_type": "markdown",
   "metadata": {},
   "source": [
    "if sorting is of importance, we have to use bson.son.SON or collections.OrderedDict to maintain order"
   ]
  },
  {
   "cell_type": "code",
   "execution_count": 23,
   "metadata": {},
   "outputs": [
    {
     "data": {
      "text/plain": [
       "[{'_id': '', 'count': 167},\n",
       " {'_id': 'Kreuzberg', 'count': 7},\n",
       " {'_id': 'Charlottenburg', 'count': 6},\n",
       " {'_id': 'Prenzlauer Berg', 'count': 6},\n",
       " {'_id': 'Friedrichshain', 'count': 6},\n",
       " {'_id': 'Marzahn', 'count': 5},\n",
       " {'_id': 'Tempelhof', 'count': 4},\n",
       " {'_id': 'Hellersdorf', 'count': 4},\n",
       " {'_id': 'Mitte', 'count': 4},\n",
       " {'_id': 'Spandau', 'count': 4}]"
      ]
     },
     "execution_count": 23,
     "metadata": {},
     "output_type": "execute_result"
    }
   ],
   "source": [
    "# bson.son\n",
    "pipeline = [\n",
    "    {\"$group\": {\"_id\": \"$district\", \"count\": {\"$sum\": 1}}},\n",
    "    {\"$sort\": SON([(\"count\", -1)])}\n",
    "]\n",
    "\n",
    "results = db.shops.aggregate(pipeline)\n",
    "list(results)[:10]"
   ]
  },
  {
   "cell_type": "code",
   "execution_count": 24,
   "metadata": {},
   "outputs": [
    {
     "data": {
      "text/plain": [
       "[{'_id': '', 'count': 167},\n",
       " {'_id': 'Kreuzberg', 'count': 7},\n",
       " {'_id': 'Charlottenburg', 'count': 6},\n",
       " {'_id': 'Prenzlauer Berg', 'count': 6},\n",
       " {'_id': 'Friedrichshain', 'count': 6},\n",
       " {'_id': 'Marzahn', 'count': 5},\n",
       " {'_id': 'Tempelhof', 'count': 4},\n",
       " {'_id': 'Mitte', 'count': 4},\n",
       " {'_id': 'Hellersdorf', 'count': 4},\n",
       " {'_id': 'Reinickendorf', 'count': 4}]"
      ]
     },
     "execution_count": 24,
     "metadata": {},
     "output_type": "execute_result"
    }
   ],
   "source": [
    "# collections.OrderedDict\n",
    "\n",
    "pipeline = [\n",
    "    {\"$group\": {\"_id\": \"$district\", \"count\": {\"$sum\": 1}}},\n",
    "    {\"$sort\": OrderedDict([(\"count\", -1)])}\n",
    "]\n",
    "\n",
    "results = db.shops.aggregate(pipeline)\n",
    "list(results)[:10]"
   ]
  },
  {
   "cell_type": "markdown",
   "metadata": {},
   "source": [
    "#### explain like i'm SQL"
   ]
  },
  {
   "cell_type": "code",
   "execution_count": null,
   "metadata": {},
   "outputs": [],
   "source": [
    "db.command('aggregate', 'shops', pipeline=pipeline, explain=True)"
   ]
  },
  {
   "cell_type": "markdown",
   "metadata": {},
   "source": [
    "## CURSOR"
   ]
  },
  {
   "cell_type": "code",
   "execution_count": 191,
   "metadata": {},
   "outputs": [
    {
     "name": "stdout",
     "output_type": "stream",
     "text": [
      "{'_id': ObjectId('5e3be04cba687e77141ce222'), 'shop': 'lidl', 'address': 'Leipziger Str. 42', 'zip': '10117', 'city': 'Berlin', 'district': 'Mitte', 'closed': 0}\n",
      "{'_id': ObjectId('5e3be04cba687e77141ce223'), 'shop': 'lidl', 'address': 'Choriner Str. 64/64a', 'zip': '10435', 'city': 'Berlin', 'district': 'Mitte', 'closed': 0}\n",
      "{'_id': ObjectId('5e3be04cba687e77141ce224'), 'shop': 'lidl', 'address': 'Heinrich-Heine-Str. 30', 'zip': '10179', 'city': 'Berlin', 'district': 'Mitte', 'closed': 0}\n",
      "{'_id': ObjectId('5e3be04cba687e77141ce222'), 'shop': 'lidl', 'address': 'Leipziger Str. 42', 'zip': '10117', 'city': 'Berlin', 'district': 'Mitte', 'closed': 0}\n",
      "{'_id': ObjectId('5e3be04cba687e77141ce223'), 'shop': 'lidl', 'address': 'Choriner Str. 64/64a', 'zip': '10435', 'city': 'Berlin', 'district': 'Mitte', 'closed': 0}\n",
      "{'_id': ObjectId('5e3be04cba687e77141ce224'), 'shop': 'lidl', 'address': 'Heinrich-Heine-Str. 30', 'zip': '10179', 'city': 'Berlin', 'district': 'Mitte', 'closed': 0}\n",
      "[{'_id': ObjectId('5e3be04cba687e77141ce225'), 'shop': 'lidl', 'address': 'Friedenstr. 94 a', 'zip': '10249', 'city': 'Berlin', 'district': 'Friedrichshain', 'closed': 0}, {'_id': ObjectId('5e3be04cba687e77141ce226'), 'shop': 'lidl', 'address': 'Charlottenstr. 2', 'zip': '10969', 'city': 'Berlin', 'district': 'Kreuzberg', 'closed': 0}]\n"
     ]
    }
   ],
   "source": [
    "markets = db.shops.find()\n",
    "\n",
    "print(markets.next())\n",
    "print(markets.next())\n",
    "print(markets.next())\n",
    "\n",
    "markets.rewind()\n",
    "\n",
    "print(markets.next())\n",
    "print(markets.next())\n",
    "print(markets.next())    \n",
    "\n",
    "print(list(markets)[:2])"
   ]
  },
  {
   "cell_type": "markdown",
   "metadata": {},
   "source": [
    "## UPDATE"
   ]
  },
  {
   "cell_type": "markdown",
   "metadata": {},
   "source": [
    "### update one"
   ]
  },
  {
   "cell_type": "code",
   "execution_count": 174,
   "metadata": {},
   "outputs": [
    {
     "data": {
      "text/plain": [
       "{'_id': ObjectId('5e3be04cba687e77141ce276'),\n",
       " 'shop': 'lidl',\n",
       " 'address': 'Steglitzer Damm 95',\n",
       " 'zip': '12169',\n",
       " 'city': 'Berlin',\n",
       " 'district': 'Steglitz'}"
      ]
     },
     "execution_count": 174,
     "metadata": {},
     "output_type": "execute_result"
    }
   ],
   "source": [
    "query = {\"zip\": \"12169\"}\n",
    "\n",
    "result = db.shops.find_one(query)\n",
    "result"
   ]
  },
  {
   "cell_type": "code",
   "execution_count": 181,
   "metadata": {},
   "outputs": [
    {
     "data": {
      "text/plain": [
       "<pymongo.results.UpdateResult at 0x11d5b26e0>"
      ]
     },
     "execution_count": 181,
     "metadata": {},
     "output_type": "execute_result"
    }
   ],
   "source": [
    "query = {\"_id\": ObjectId(\"5e3be04cba687e77141ce276\")}\n",
    "values = {\"$set\": {\"closed\": 1}}\n",
    "\n",
    "db.shops.update_one(query, values)"
   ]
  },
  {
   "cell_type": "code",
   "execution_count": 182,
   "metadata": {},
   "outputs": [
    {
     "data": {
      "text/plain": [
       "{'_id': ObjectId('5e3be04cba687e77141ce276'),\n",
       " 'shop': 'lidl',\n",
       " 'address': 'Steglitzer Damm 95',\n",
       " 'zip': '12169',\n",
       " 'city': 'Berlin',\n",
       " 'district': 'Steglitz',\n",
       " 'closed': 1}"
      ]
     },
     "execution_count": 182,
     "metadata": {},
     "output_type": "execute_result"
    }
   ],
   "source": [
    "query = {\"zip\": \"12169\"}\n",
    "result = db.shops.find_one(query)\n",
    "result"
   ]
  },
  {
   "cell_type": "markdown",
   "metadata": {},
   "source": [
    "### update many"
   ]
  },
  {
   "cell_type": "code",
   "execution_count": 180,
   "metadata": {},
   "outputs": [
    {
     "data": {
      "text/plain": [
       "308"
      ]
     },
     "execution_count": 180,
     "metadata": {},
     "output_type": "execute_result"
    }
   ],
   "source": [
    "values = {\"$set\": {\"closed\": 0}}\n",
    "\n",
    "results = db.shops.update_many({}, values)\n",
    "results.modified_count"
   ]
  },
  {
   "cell_type": "code",
   "execution_count": 185,
   "metadata": {},
   "outputs": [
    {
     "data": {
      "text/plain": [
       "[{'_id': ObjectId('5e3be04cba687e77141ce222'),\n",
       "  'shop': 'lidl',\n",
       "  'address': 'Leipziger Str. 42',\n",
       "  'zip': '10117',\n",
       "  'city': 'Berlin',\n",
       "  'district': 'Mitte',\n",
       "  'closed': 0},\n",
       " {'_id': ObjectId('5e3be04cba687e77141ce223'),\n",
       "  'shop': 'lidl',\n",
       "  'address': 'Choriner Str. 64/64a',\n",
       "  'zip': '10435',\n",
       "  'city': 'Berlin',\n",
       "  'district': 'Mitte',\n",
       "  'closed': 0}]"
      ]
     },
     "execution_count": 185,
     "metadata": {},
     "output_type": "execute_result"
    }
   ],
   "source": [
    "results = db.shops.find()\n",
    "list(results)[:2]"
   ]
  },
  {
   "cell_type": "markdown",
   "metadata": {},
   "source": [
    "## DELETE"
   ]
  },
  {
   "cell_type": "markdown",
   "metadata": {},
   "source": [
    "### delete one"
   ]
  },
  {
   "cell_type": "code",
   "execution_count": 103,
   "metadata": {},
   "outputs": [
    {
     "data": {
      "text/plain": [
       "0"
      ]
     },
     "execution_count": 103,
     "metadata": {},
     "output_type": "execute_result"
    }
   ],
   "source": [
    "query = {\"address\": \"Bergstr. 86\"}\n",
    "\n",
    "result = db.shops.delete_one(query)\n",
    "result.deleted_count"
   ]
  },
  {
   "cell_type": "markdown",
   "metadata": {},
   "source": [
    "### delete many"
   ]
  },
  {
   "cell_type": "code",
   "execution_count": 104,
   "metadata": {},
   "outputs": [
    {
     "data": {
      "text/plain": [
       "310"
      ]
     },
     "execution_count": 104,
     "metadata": {},
     "output_type": "execute_result"
    }
   ],
   "source": [
    "result = db.shopsmany.delete_many({})\n",
    "result.deleted_count"
   ]
  },
  {
   "cell_type": "markdown",
   "metadata": {},
   "source": [
    "### drop collection"
   ]
  },
  {
   "cell_type": "code",
   "execution_count": 156,
   "metadata": {},
   "outputs": [],
   "source": [
    "db.shopsmany.drop()"
   ]
  }
 ],
 "metadata": {
  "kernelspec": {
   "display_name": "Python 3",
   "language": "python",
   "name": "python3"
  },
  "language_info": {
   "codemirror_mode": {
    "name": "ipython",
    "version": 3
   },
   "file_extension": ".py",
   "mimetype": "text/x-python",
   "name": "python",
   "nbconvert_exporter": "python",
   "pygments_lexer": "ipython3",
   "version": "3.7.5"
  }
 },
 "nbformat": 4,
 "nbformat_minor": 4
}
